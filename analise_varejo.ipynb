{
 "cells": [
  {
   "cell_type": "markdown",
   "id": "b5162f8e-7df0-4463-9b50-440374ac88ee",
   "metadata": {},
   "source": [
    "# Análise de vendas - Case comercial para Varejo"
   ]
  },
  {
   "cell_type": "markdown",
   "id": "74a35935-3219-4114-9af8-6b1c7fcbde6d",
   "metadata": {},
   "source": [
    "## Introdução"
   ]
  },
  {
   "cell_type": "markdown",
   "id": "a4d3d646-44aa-4b51-86c4-4a656b770e1a",
   "metadata": {},
   "source": [
    "Este notebook tem como propósito examinar os dados de vendas de uma empresa do setor varejista, a fim de responder a questões específicas formuladas pela equipe da área Comercial. Por meio da manipulação e análise de dados transacionais, busquei extrair insights sobre os hábitos de compra dos clientes, considerando variáveis como classe social, cor, tamanho e localização geográfica (Unidade da Federação).\n",
    "\n",
    "As análises desenvolvidas aqui visam compreender tendências de consumo e identificar possíveis oportunidades de negócio, utilizando filtros estratégicos (como características dos produtos e períodos de venda) e aplicando métodos estatísticos quando apropriado. Cada seção do notebook trata de uma das perguntas propostas, com visualizações e interpretações objetivas dos resultados alcançados."
   ]
  },
  {
   "cell_type": "markdown",
   "id": "94ea475a-85e7-40dc-a0fe-ab22d85e4222",
   "metadata": {},
   "source": [
    "## Bibliotecas"
   ]
  },
  {
   "cell_type": "code",
   "execution_count": 1,
   "id": "8aed4707-cce0-4322-973b-789500bf1360",
   "metadata": {},
   "outputs": [],
   "source": [
    "# instalação - execute apenas uma vez ou quando necessário\n",
    "%pip install duckdb pandas matplotlib seaborn openpyxl scipy statsmodels"
   ]
  },
  {
   "cell_type": "code",
   "execution_count": 2,
   "id": "08fa4abd-9f09-498f-83b4-b83e90b1a105",
   "metadata": {},
   "outputs": [],
   "source": [
    "import pandas as pd\n",
    "import matplotlib.pyplot as plt\n",
    "import seaborn as sns\n",
    "from scipy import stats\n",
    "from statsmodels.stats.multicomp import pairwise_tukeyhsd\n",
    "import duckdb"
   ]
  },
  {
   "cell_type": "markdown",
   "id": "a393ffca-fe79-44db-bca5-e12201db4827",
   "metadata": {},
   "source": [
    "## Carregamento e Pré-processamento dos Dados"
   ]
  },
  {
   "cell_type": "code",
   "execution_count": 3,
   "id": "a9776f1a-f6b3-49b2-af51-b75513ce4465",
   "metadata": {},
   "outputs": [
    {
     "name": "stdout",
     "output_type": "stream",
     "text": [
      "Sheets disponíveis: ['Raw', 'Master Atributos', 'Master Lojas', 'Master clientes', 'Glossario']\n"
     ]
    }
   ],
   "source": [
    "# Extraindo os dados\n",
    "excel_file = pd.ExcelFile('Dados.xlsx')\n",
    "print(\"Sheets disponíveis:\", excel_file.sheet_names)"
   ]
  },
  {
   "cell_type": "code",
   "execution_count": 4,
   "id": "e5f5ea8d-1f0c-440b-a255-067d5808c651",
   "metadata": {},
   "outputs": [],
   "source": [
    "# Carregando os dados para o Pandas\n",
    "transacoes = pd.read_excel(excel_file,sheet_name='Raw')\n",
    "atributos = pd.read_excel(excel_file,sheet_name='Master Atributos')\n",
    "lojas = pd.read_excel(excel_file, sheet_name='Master Lojas')\n",
    "clientes = pd.read_excel(excel_file,sheet_name='Master clientes')"
   ]
  },
  {
   "cell_type": "code",
   "execution_count": 5,
   "id": "29187a9d-8a35-459e-913c-dfdaddee65ad",
   "metadata": {},
   "outputs": [],
   "source": [
    "# Carregando e registrando os dados no DuckDB para queries em SQL\n",
    "\n",
    "dfs = {\n",
    "    'transacoes': pd.read_excel(excel_file, sheet_name='Raw'),\n",
    "    'atributos': pd.read_excel(excel_file, sheet_name='Master Atributos'),\n",
    "    'lojas': pd.read_excel(excel_file, sheet_name='Master Lojas'),\n",
    "    'clientes': pd.read_excel(excel_file, sheet_name='Master clientes')\n",
    "}\n",
    "\n",
    "con = duckdb.connect()\n",
    "for nome, df in dfs.items():\n",
    "    con.register(nome, df)"
   ]
  },
  {
   "cell_type": "code",
   "execution_count": 6,
   "id": "f6652fa8-7749-4d93-8c5e-7957048503c2",
   "metadata": {},
   "outputs": [
    {
     "name": "stdout",
     "output_type": "stream",
     "text": [
      "Dados das transações: \n",
      "   ID TRANSAÇÃO       DATA  ID LOJA  ID PRODUTO  ID CLIENTE  PEÇAS VENDA  \\\n",
      "0             1 2022-01-02  Loja007      123005       90023            2   \n",
      "1             2 2022-01-02  Loja009      123004       90092            1   \n",
      "2             3 2022-01-02  Loja001      123001       90027            2   \n",
      "3             4 2022-01-02  Loja003      123001       90097            2   \n",
      "4             5 2022-01-02  Loja004      123004       90089            2   \n",
      "\n",
      "        DESCRIÇÃO TAMANHO    COR  VALOR VENDA  PROMOÇÃO  \n",
      "0  Blusa em malha       P  Cinza        99.98         0  \n",
      "1          Regata       M  Cinza        35.99         0  \n",
      "2   Calça algodão       G  Cinza        51.98         0  \n",
      "3   Calça algodão       G  Cinza        51.98         0  \n",
      "4          Regata       M  Cinza        71.98         0  \n",
      "\n",
      "Quantidades de registros e atributos, respectivamente:\n",
      "(7785, 11)\n"
     ]
    }
   ],
   "source": [
    "# Exploração dos dados\n",
    "\n",
    "print('Dados das transações: ')\n",
    "print(transacoes.head())\n",
    "print('\\nQuantidades de registros e atributos, respectivamente:')\n",
    "print(transacoes.shape)"
   ]
  },
  {
   "cell_type": "code",
   "execution_count": 7,
   "id": "dd178731-6d75-4c49-8f5e-4c97f3cae529",
   "metadata": {},
   "outputs": [
    {
     "name": "stdout",
     "output_type": "stream",
     "text": [
      "          coluna          tipo  total_linhas  nao_nulos\n",
      "0            COR       VARCHAR          7785       7785\n",
      "1           DATA  TIMESTAMP_NS          7785       7785\n",
      "2      DESCRIÇÃO       VARCHAR          7785       7785\n",
      "3     ID CLIENTE        BIGINT          7785       7785\n",
      "4        ID LOJA       VARCHAR          7785       7785\n",
      "5     ID PRODUTO        BIGINT          7785       7785\n",
      "6   ID TRANSAÇÃO        BIGINT          7785       7785\n",
      "7    PEÇAS VENDA        BIGINT          7785       7785\n",
      "8       PROMOÇÃO        BIGINT          7785       7785\n",
      "9        TAMANHO       VARCHAR          7785       7785\n",
      "10   VALOR VENDA        DOUBLE          7785       7785\n"
     ]
    }
   ],
   "source": [
    "# Informações gerais \n",
    "\n",
    "consulta_sql = \"\"\"\n",
    "SELECT \n",
    "    column_name AS coluna,\n",
    "    data_type AS tipo,\n",
    "    COUNT(*) AS total_linhas,\n",
    "    COUNT(column_name) AS nao_nulos\n",
    "FROM information_schema.columns\n",
    "JOIN transacoes ON TRUE\n",
    "WHERE table_name = 'transacoes'\n",
    "GROUP BY column_name, data_type\n",
    "ORDER BY coluna;\n",
    "\"\"\"\n",
    "resultado = con.execute(consulta_sql).df()\n",
    "print(resultado)\n"
   ]
  },
  {
   "cell_type": "code",
   "execution_count": 8,
   "id": "93b74fa7-98e1-496b-8172-0b5bbd36289f",
   "metadata": {},
   "outputs": [
    {
     "name": "stdout",
     "output_type": "stream",
     "text": [
      "\n",
      " Campos na tabela 'transacoes':\n",
      "['ID TRANSAÇÃO', 'DATA', 'ID LOJA', 'ID PRODUTO', 'ID CLIENTE', 'PEÇAS VENDA', 'DESCRIÇÃO', 'TAMANHO', 'COR', 'VALOR VENDA', 'PROMOÇÃO']\n",
      "\n",
      " Campos na tabela 'atributos':\n",
      "['ID PRODUTO', 'ATRIBUTO', 'DETALHE ATRIBUTO']\n",
      "\n",
      " Campos na tabela 'lojas':\n",
      "['ID LOJA', 'ID CIDADE', 'UNIDADE DA FEDERAÇÃO', 'REGIÃO']\n",
      "\n",
      " Campos na tabela 'clientes':\n",
      "['ID CLIENTE', 'GENERO', 'FAIXA DE IDADE', 'CLASSE SOCIAL']\n"
     ]
    }
   ],
   "source": [
    "for nome_df, df in dfs.items():\n",
    "    print(f\"\\n Campos na tabela '{nome_df}':\")\n",
    "    print(df.columns.tolist())"
   ]
  },
  {
   "cell_type": "code",
   "execution_count": 9,
   "id": "556b5cd4-c0a8-4f76-b6f6-4fac7961ca03",
   "metadata": {},
   "outputs": [
    {
     "name": "stdout",
     "output_type": "stream",
     "text": [
      "{'ID TRANSAÇÃO': array([    1,     2,     3, ..., 12906, 12907, 12908], shape=(7785,)), 'DATA': <DatetimeArray>\n",
      "['2022-01-02 00:00:00', '2022-01-03 00:00:00', '2022-01-04 00:00:00',\n",
      " '2022-01-05 00:00:00', '2022-01-06 00:00:00', '2022-01-07 00:00:00',\n",
      " '2022-01-08 00:00:00', '2022-01-09 00:00:00', '2022-01-10 00:00:00',\n",
      " '2022-01-11 00:00:00',\n",
      " ...\n",
      " '2023-09-21 00:00:00', '2023-09-22 00:00:00', '2023-09-23 00:00:00',\n",
      " '2023-09-24 00:00:00', '2023-09-25 00:00:00', '2023-09-26 00:00:00',\n",
      " '2023-09-27 00:00:00', '2023-09-28 00:00:00', '2023-09-29 00:00:00',\n",
      " '2023-09-30 00:00:00']\n",
      "Length: 545, dtype: datetime64[ns], 'ID LOJA': array(['Loja007', 'Loja009', 'Loja001', 'Loja003', 'Loja004', 'Loja006',\n",
      "       'Loja002', 'Loja005', 'Loja008', 'Loja010'], dtype=object), 'ID PRODUTO': array([123005, 123004, 123001, 123006, 123002, 123007, 123003, 123008,\n",
      "       123009, 123000, 123011, 123010]), 'ID CLIENTE': array([90023, 90092, 90027, 90097, 90089, 90021, 90072, 90006, 90069,\n",
      "       90042, 90017, 90067, 90091, 90093, 90053, 90007, 90076, 90029,\n",
      "       90080, 90095, 90096, 90039, 90061, 90055, 90066, 90010, 90018,\n",
      "       90075, 90078, 90057, 90094, 90088, 90012, 90022, 90058, 90048,\n",
      "       90024, 90035, 90059, 90019, 90049, 90074, 90098, 90064, 90037,\n",
      "       90001, 90016, 90008, 90050, 90026, 90056, 90002, 90085, 90081,\n",
      "       90015, 90043, 90044, 90036, 90011, 90046, 90020, 90083, 90090,\n",
      "       90054, 90005, 90070, 90038, 90060, 90003, 90034, 90028, 90062,\n",
      "       90045, 90087, 90014, 90040, 90086, 90063, 90047, 90051, 90025,\n",
      "       90073, 90065, 90082, 90013, 90032, 90009, 90004, 90052, 90071,\n",
      "       90000, 90030, 90068, 90079, 90084, 90031, 90077, 90033, 90041,\n",
      "       90099]), 'PEÇAS VENDA': array([2, 1, 3, 4]), 'DESCRIÇÃO': array(['Blusa em malha', 'Regata', 'Calça algodão', 'Colete',\n",
      "       'Camisa manga longa', 'Camisa jeans', 'Blusa manga curta',\n",
      "       'Calça pantalona', 'Jaqueta', 'Calça liso', 'Camisa em viscose',\n",
      "       'Calça Xadrez'], dtype=object), 'TAMANHO': array(['  P', 'M', '  G', 'P', ' M', 'G', 'GG', '    G'], dtype=object), 'COR': array(['Cinza', 'Preto', 'Vermelho', 'Azul'], dtype=object), 'VALOR VENDA': array([ 99.98  ,  35.99  ,  51.98  ,  71.98  , 151.173 , 199.96  ,\n",
      "        83.97  ,  55.98  ,  25.191 , 119.98  , 111.98  ,  25.99  ,\n",
      "       149.97  , 223.96  , 269.97  , 359.96  , 179.97  , 107.97  ,\n",
      "       167.97  , 367.96  ,  91.99  , 183.98  , 134.973 ,  49.99  ,\n",
      "        79.96  , 179.98  ,  77.97  ,  50.382 ,  64.782 ,  89.99  ,\n",
      "        17.991 , 161.973 ,  50.391 , 111.96  ,  70.173 , 275.97  ,\n",
      "        59.97  , 239.96  ,  59.99  ,  27.99  , 161.982 ,  23.391 ,\n",
      "        39.98  , 331.164 ,  46.782 ,  19.99  ,  80.991 ,  35.982 ,\n",
      "        53.991 ,  55.99  , 100.782 , 165.582 ,  97.173 , 103.96  ,\n",
      "        89.982 ,  93.564 , 143.96  , 242.973 , 107.982 ,  75.573 ,\n",
      "       201.564 ,  44.991 , 100.764 ,  32.391 , 215.964 ,  53.973 ,\n",
      "       179.964 , 248.373 , 129.564 , 323.964 ,  71.964 ,  82.791 ,\n",
      "       219.96  ,  42.99  , 128.97  ,  71.3745,  24.99  ,  95.166 ,\n",
      "       109.98  ,  74.97  , 239.97  ,  85.98  ,  61.98  ,  49.98  ,\n",
      "       109.6245,  46.7415, 171.96  , 123.96  ,  54.99  ,  92.97  ,\n",
      "       164.97  , 159.98  ,  79.99  ,  30.99  , 122.366 ,  50.9915,\n",
      "        79.0245, 101.983 ,  52.683 , 146.166 , 152.983 ,  91.7745,\n",
      "        73.083 ,  33.983 , 319.96  ,  30.5915,  99.96  , 140.2245,\n",
      "       229.4745, 135.983 , 203.9745, 305.966 ,  63.7245, 271.966 ,\n",
      "        67.9915,  47.583 ,  93.483 , 105.366 ,  76.4915,  36.5415,\n",
      "        16.9915,  42.483 ,  26.3415,  61.183 , 152.9745,  50.9745,\n",
      "        23.7915,  67.966 , 186.966 ,  21.2415,  84.966 , 203.966 ]), 'PROMOÇÃO': array([0, 1])}\n"
     ]
    }
   ],
   "source": [
    "# Listando valores únicos por coluna\n",
    "\n",
    "print({col: transacoes[col].unique() for col in transacoes.columns})"
   ]
  },
  {
   "cell_type": "markdown",
   "id": "4c1a8f68-3e95-4df0-8291-9304ecb5ed40",
   "metadata": {},
   "source": [
    "- Tratamento em Python:"
   ]
  },
  {
   "cell_type": "code",
   "execution_count": 10,
   "id": "44d84b6b-e5ea-4579-93eb-3e23e13bc56e",
   "metadata": {},
   "outputs": [
    {
     "name": "stdout",
     "output_type": "stream",
     "text": [
      "['P' 'M' 'G' 'GG']\n"
     ]
    }
   ],
   "source": [
    "# Criando copia do Dataframe e aplicando o tratamento no atributo 'Tamanho\"\n",
    "\n",
    "transacoes_limpo = transacoes.copy()\n",
    "transacoes_limpo['TAMANHO']= transacoes['TAMANHO'].astype(str).str.strip()\n",
    "print(transacoes_limpo['TAMANHO'].unique())"
   ]
  },
  {
   "cell_type": "markdown",
   "id": "3cdb0744-d077-48f1-b0e2-ba07db373c9c",
   "metadata": {},
   "source": [
    "- Tratamento em SQL:"
   ]
  },
  {
   "cell_type": "code",
   "execution_count": 11,
   "id": "c3a44056-85a8-4f1d-8b1d-d94918bbc2bd",
   "metadata": {},
   "outputs": [
    {
     "name": "stdout",
     "output_type": "stream",
     "text": [
      "  TAMANHO_LIMPO\n",
      "0             G\n",
      "1             P\n",
      "2             M\n",
      "3            GG\n"
     ]
    }
   ],
   "source": [
    "# Repetindo o procedimento em SQL\n",
    "\n",
    "con.execute(\"CREATE TABLE transacoes_limpas AS SELECT * FROM transacoes;\")\n",
    "\n",
    "consulta_sql = \"\"\"\n",
    "WITH transacoes_limpas AS (\n",
    "    SELECT \n",
    "        *, \n",
    "        TRIM(\"TAMANHO\") AS \"TAMANHO_LIMPO\"\n",
    "    FROM transacoes\n",
    ")\n",
    "SELECT DISTINCT \"TAMANHO_LIMPO\"\n",
    "FROM transacoes_limpas;\n",
    "\"\"\"\n",
    "resultado = con.execute(consulta_sql).fetchdf()\n",
    "transacoes_limpas = resultado.copy()\n",
    "print(transacoes_limpas)"
   ]
  },
  {
   "cell_type": "markdown",
   "id": "b8bd2e04-339d-4d7c-9557-863050b6864b",
   "metadata": {},
   "source": [
    "- Tratamento em Python:"
   ]
  },
  {
   "cell_type": "code",
   "execution_count": 12,
   "id": "bf8f09f7-118c-41dc-b455-9d07521179f7",
   "metadata": {},
   "outputs": [
    {
     "name": "stdout",
     "output_type": "stream",
     "text": [
      "[ 99.98  35.99  51.98  71.98 151.17 199.96  83.97  55.98  25.19 119.98\n",
      " 111.98  25.99 149.97 223.96 269.97 359.96 179.97 107.97 167.97 367.96\n",
      "  91.99 183.98 134.97  49.99  79.96 179.98  77.97  50.38  64.78  89.99\n",
      "  17.99 161.97  50.39 111.96  70.17 275.97  59.97 239.96  59.99  27.99\n",
      " 161.98  23.39  39.98 331.16  46.78  19.99  80.99  35.98  53.99  55.99\n",
      " 100.78 165.58  97.17 103.96  89.98  93.56 143.96 242.97 107.98  75.57\n",
      " 201.56  44.99 100.76  32.39 215.96  53.97 179.96 248.37 129.56 323.96\n",
      "  71.96  82.79 219.96  42.99 128.97  71.37  24.99  95.17 109.98  74.97\n",
      " 239.97  85.98  61.98  49.98 109.62  46.74 171.96 123.96  54.99  92.97\n",
      " 164.97 159.98  79.99  30.99 122.37  50.99  79.02 101.98  52.68 146.17\n",
      " 152.98  91.77  73.08  33.98 319.96  30.59  99.96 140.22 229.47 135.98\n",
      " 203.97 305.97  63.72 271.97  67.99  47.58  93.48 105.37  76.49  36.54\n",
      "  16.99  42.48  26.34  61.18 152.97  50.97  23.79  67.97 186.97  21.24\n",
      "  84.97]\n"
     ]
    }
   ],
   "source": [
    "# Ajustando o campo 'VALOR VENDA' para formato moeda \n",
    "\n",
    "transacoes_limpo['VALOR VENDA'] = (\n",
    "    transacoes_limpo['VALOR VENDA']\n",
    "    .astype(str)\n",
    "    .str.replace(',', '.', regex=False)\n",
    "    .astype(float)\n",
    "    .round(2)\n",
    ")\n",
    "print(transacoes_limpo['VALOR VENDA'].unique())"
   ]
  },
  {
   "cell_type": "markdown",
   "id": "cb9a904b-8c89-4f6f-b60e-5994ed2ea8f9",
   "metadata": {
    "scrolled": true
   },
   "source": [
    "- Tratamento em SQL:"
   ]
  },
  {
   "cell_type": "code",
   "execution_count": 13,
   "id": "fdfe3579-6f7c-484e-b7cf-87f3fde898cc",
   "metadata": {},
   "outputs": [
    {
     "name": "stdout",
     "output_type": "stream",
     "text": [
      "   ID TRANSAÇÃO       DATA  ID LOJA  ID PRODUTO  ID CLIENTE  PEÇAS VENDA  \\\n",
      "0             1 2022-01-02  Loja007      123005       90023            2   \n",
      "1             2 2022-01-02  Loja009      123004       90092            1   \n",
      "2             3 2022-01-02  Loja001      123001       90027            2   \n",
      "3             4 2022-01-02  Loja003      123001       90097            2   \n",
      "4             5 2022-01-02  Loja004      123004       90089            2   \n",
      "\n",
      "        DESCRIÇÃO TAMANHO    COR  VALOR VENDA  PROMOÇÃO  \n",
      "0  Blusa em malha       P  Cinza        99.98         0  \n",
      "1          Regata       M  Cinza        35.99         0  \n",
      "2   Calça algodão       G  Cinza        51.98         0  \n",
      "3   Calça algodão       G  Cinza        51.98         0  \n",
      "4          Regata       M  Cinza        71.98         0  \n"
     ]
    }
   ],
   "source": [
    "# Ajustando o campo 'VALOR VENDA' para formato moeda\n",
    "\n",
    "consulta_sql = \"\"\"\n",
    "UPDATE transacoes_limpas\n",
    "SET \"VALOR VENDA\" = ROUND(CAST(REPLACE(CAST(\"VALOR VENDA\" AS VARCHAR), ',', '.') AS DOUBLE), 2);\n",
    "\"\"\"\n",
    "\n",
    "resultado = con.execute(consulta_sql).fetchdf()\n",
    "transacoes_limpas = resultado.copy()\n",
    "df = con.execute(\"SELECT * FROM transacoes_limpas LIMIT 5\").fetchdf()\n",
    "print(df)"
   ]
  },
  {
   "cell_type": "code",
   "execution_count": 14,
   "id": "e89f2b20-ecd7-4e1f-9c4a-37a9a7d94c72",
   "metadata": {},
   "outputs": [
    {
     "name": "stdout",
     "output_type": "stream",
     "text": [
      "\n",
      "Valores ausentes nos datasets:\n",
      "Transações: 0\n",
      "Atributos: 30\n",
      "Lojas: 2\n",
      "Clientes: 4\n"
     ]
    }
   ],
   "source": [
    "# Verificando valores ausentes\n",
    "\n",
    "print(\"\\nValores ausentes nos datasets:\")\n",
    "print(\"Transações:\", transacoes.isnull().sum().sum())\n",
    "print(\"Atributos:\", atributos.isnull().sum().sum())\n",
    "print(\"Lojas:\", lojas.isnull().sum().sum())\n",
    "print(\"Clientes:\", clientes.isnull().sum().sum())"
   ]
  },
  {
   "cell_type": "code",
   "execution_count": 15,
   "id": "9d2f12e5-8dbf-4d76-8e5d-7925ce8a9e17",
   "metadata": {},
   "outputs": [
    {
     "name": "stdout",
     "output_type": "stream",
     "text": [
      "\n",
      "Atributos — Linhas com valores ausentes: 30\n",
      "     ID PRODUTO          ATRIBUTO DETALHE ATRIBUTO\n",
      "12       123000  Cadeia Produtiva              NaN\n",
      "29       123000  Cadeia Produtiva              NaN\n",
      "46       123000  Cadeia Produtiva              NaN\n",
      "63       123000  Cadeia Produtiva              NaN\n",
      "111      123002  Cadeia Produtiva              NaN\n",
      "125      123002  Cadeia Produtiva              NaN\n",
      "139      123002  Cadeia Produtiva              NaN\n",
      "152      123002  Cadeia Produtiva              NaN\n",
      "166      123003  Cadeia Produtiva              NaN\n",
      "181      123003  Cadeia Produtiva              NaN\n",
      "195      123004  Cadeia Produtiva              NaN\n",
      "209      123004  Cadeia Produtiva              NaN\n",
      "223      123004  Cadeia Produtiva              NaN\n",
      "239      123004  Cadeia Produtiva              NaN\n",
      "253      123004  Cadeia Produtiva              NaN\n",
      "267      123004  Cadeia Produtiva              NaN\n",
      "281      123004  Cadeia Produtiva              NaN\n",
      "293      123004  Cadeia Produtiva              NaN\n",
      "307      123004  Cadeia Produtiva              NaN\n",
      "322      123005  Cadeia Produtiva              NaN\n",
      "337      123006  Cadeia Produtiva              NaN\n",
      "351      123007  Cadeia Produtiva              NaN\n",
      "366      123008  Cadeia Produtiva              NaN\n",
      "381      123009  Cadeia Produtiva              NaN\n",
      "395      123009  Cadeia Produtiva              NaN\n",
      "409      123010  Cadeia Produtiva              NaN\n",
      "424      123010  Cadeia Produtiva              NaN\n",
      "440      123011  Cadeia Produtiva              NaN\n",
      "453      123011  Cadeia Produtiva              NaN\n",
      "467      123011  Cadeia Produtiva              NaN\n",
      "\n",
      "Lojas — Linhas com valores ausentes: 2\n",
      "   ID LOJA  ID CIDADE UNIDADE DA FEDERAÇÃO   REGIÃO\n",
      "2  Loja003      20027                  NaN      SUL\n",
      "6  Loja007      15428                  NaN  SUDESTE\n",
      "\n",
      "Clientes — Linhas com valores ausentes: 4\n",
      "    ID CLIENTE GENERO FAIXA DE IDADE CLASSE SOCIAL\n",
      "17       90017      M            45+           NaN\n",
      "45       90045      F          35-45           NaN\n",
      "60       90060      F          18-25           NaN\n",
      "77       90077      F          25-35           NaN\n"
     ]
    }
   ],
   "source": [
    "# Visualizando os registros com NaN\n",
    "datasets = {\n",
    "    'Atributos': atributos,\n",
    "    'Lojas': lojas,\n",
    "    'Clientes': clientes\n",
    "}\n",
    "\n",
    "for nome, df in datasets.items():\n",
    "    linhas_nulas = df[df.isnull().any(axis=1)]\n",
    "    print(f\"\\n{nome} — Linhas com valores ausentes: {len(linhas_nulas)}\")\n",
    "    if not linhas_nulas.empty:\n",
    "        print(linhas_nulas)\n",
    "    else:\n",
    "        print(\"Nenhuma linha com valores ausentes.\")"
   ]
  },
  {
   "cell_type": "code",
   "execution_count": 16,
   "id": "2bae9adb-4853-4944-aeb5-8146c8b8b081",
   "metadata": {},
   "outputs": [
    {
     "name": "stdout",
     "output_type": "stream",
     "text": [
      "     ID PRODUTO          ATRIBUTO DETALHE ATRIBUTO\n",
      "12       123000  Cadeia Produtiva              NaN\n",
      "29       123000  Cadeia Produtiva              NaN\n",
      "46       123000  Cadeia Produtiva              NaN\n",
      "63       123000  Cadeia Produtiva              NaN\n",
      "80       123001  Cadeia Produtiva     Tecido Plano\n",
      "97       123001  Cadeia Produtiva     Tecido Plano\n",
      "111      123002  Cadeia Produtiva              NaN\n",
      "125      123002  Cadeia Produtiva              NaN\n",
      "139      123002  Cadeia Produtiva              NaN\n",
      "152      123002  Cadeia Produtiva              NaN\n",
      "166      123003  Cadeia Produtiva              NaN\n",
      "181      123003  Cadeia Produtiva              NaN\n",
      "195      123004  Cadeia Produtiva              NaN\n",
      "209      123004  Cadeia Produtiva              NaN\n",
      "223      123004  Cadeia Produtiva              NaN\n",
      "239      123004  Cadeia Produtiva              NaN\n",
      "253      123004  Cadeia Produtiva              NaN\n",
      "267      123004  Cadeia Produtiva              NaN\n",
      "281      123004  Cadeia Produtiva              NaN\n",
      "293      123004  Cadeia Produtiva              NaN\n",
      "307      123004  Cadeia Produtiva              NaN\n",
      "322      123005  Cadeia Produtiva              NaN\n",
      "337      123006  Cadeia Produtiva              NaN\n",
      "351      123007  Cadeia Produtiva              NaN\n",
      "366      123008  Cadeia Produtiva              NaN\n",
      "381      123009  Cadeia Produtiva              NaN\n",
      "395      123009  Cadeia Produtiva              NaN\n",
      "409      123010  Cadeia Produtiva              NaN\n",
      "424      123010  Cadeia Produtiva              NaN\n",
      "440      123011  Cadeia Produtiva              NaN\n",
      "453      123011  Cadeia Produtiva              NaN\n",
      "467      123011  Cadeia Produtiva              NaN\n"
     ]
    }
   ],
   "source": [
    "# Analise do atributo 'Cadeia Produtiva'\n",
    "\n",
    "cadeia_produtiva = atributos[atributos['ATRIBUTO'] == 'Cadeia Produtiva']\n",
    "print(cadeia_produtiva)"
   ]
  },
  {
   "cell_type": "markdown",
   "id": "8e3af45e-695d-4ac7-a62a-93cdff659ada",
   "metadata": {},
   "source": [
    "- Tratamento em Python:"
   ]
  },
  {
   "cell_type": "code",
   "execution_count": 17,
   "id": "d7c3cd3b-fac9-460e-9827-8f51ba1281c3",
   "metadata": {
    "scrolled": true
   },
   "outputs": [
    {
     "name": "stdout",
     "output_type": "stream",
     "text": [
      "     ID PRODUTO          ATRIBUTO DETALHE ATRIBUTO\n",
      "12       123000  Cadeia Produtiva    Não Informado\n",
      "29       123000  Cadeia Produtiva    Não Informado\n",
      "46       123000  Cadeia Produtiva    Não Informado\n",
      "63       123000  Cadeia Produtiva    Não Informado\n",
      "80       123001  Cadeia Produtiva     Tecido Plano\n",
      "97       123001  Cadeia Produtiva     Tecido Plano\n",
      "111      123002  Cadeia Produtiva    Não Informado\n",
      "125      123002  Cadeia Produtiva    Não Informado\n",
      "139      123002  Cadeia Produtiva    Não Informado\n",
      "152      123002  Cadeia Produtiva    Não Informado\n",
      "166      123003  Cadeia Produtiva    Não Informado\n",
      "181      123003  Cadeia Produtiva    Não Informado\n",
      "195      123004  Cadeia Produtiva    Não Informado\n",
      "209      123004  Cadeia Produtiva    Não Informado\n",
      "223      123004  Cadeia Produtiva    Não Informado\n",
      "239      123004  Cadeia Produtiva    Não Informado\n",
      "253      123004  Cadeia Produtiva    Não Informado\n",
      "267      123004  Cadeia Produtiva    Não Informado\n",
      "281      123004  Cadeia Produtiva    Não Informado\n",
      "293      123004  Cadeia Produtiva    Não Informado\n",
      "307      123004  Cadeia Produtiva    Não Informado\n",
      "322      123005  Cadeia Produtiva    Não Informado\n",
      "337      123006  Cadeia Produtiva    Não Informado\n",
      "351      123007  Cadeia Produtiva    Não Informado\n",
      "366      123008  Cadeia Produtiva    Não Informado\n",
      "381      123009  Cadeia Produtiva    Não Informado\n",
      "395      123009  Cadeia Produtiva    Não Informado\n",
      "409      123010  Cadeia Produtiva    Não Informado\n",
      "424      123010  Cadeia Produtiva    Não Informado\n",
      "440      123011  Cadeia Produtiva    Não Informado\n",
      "453      123011  Cadeia Produtiva    Não Informado\n",
      "467      123011  Cadeia Produtiva    Não Informado\n"
     ]
    }
   ],
   "source": [
    "# Preenchendo registros NaN do Atributo Cadeia Produtiva como 'Não Informado'. \n",
    "atributos_limpos = atributos.copy()\n",
    "atributos_limpos = atributos_limpos.fillna('Não Informado')\n",
    "cadeia_produtiva = atributos_limpos[atributos_limpos['ATRIBUTO'] == 'Cadeia Produtiva']\n",
    "print(cadeia_produtiva)"
   ]
  },
  {
   "cell_type": "markdown",
   "id": "f65c2c1b-dab3-4f0d-96f5-e068589f28a5",
   "metadata": {},
   "source": [
    "- Tratamento em SQL:"
   ]
  },
  {
   "cell_type": "code",
   "execution_count": 18,
   "id": "c7b21e7a-16e9-419d-9d10-4421ac17a454",
   "metadata": {},
   "outputs": [
    {
     "name": "stdout",
     "output_type": "stream",
     "text": [
      "    ID PRODUTO          ATRIBUTO DETALHE ATRIBUTO\n",
      "0       123000  Cadeia Produtiva    Não Informado\n",
      "1       123000  Cadeia Produtiva    Não Informado\n",
      "2       123000  Cadeia Produtiva    Não Informado\n",
      "3       123000  Cadeia Produtiva    Não Informado\n",
      "4       123001  Cadeia Produtiva     Tecido Plano\n",
      "5       123001  Cadeia Produtiva     Tecido Plano\n",
      "6       123002  Cadeia Produtiva    Não Informado\n",
      "7       123002  Cadeia Produtiva    Não Informado\n",
      "8       123002  Cadeia Produtiva    Não Informado\n",
      "9       123002  Cadeia Produtiva    Não Informado\n",
      "10      123003  Cadeia Produtiva    Não Informado\n",
      "11      123003  Cadeia Produtiva    Não Informado\n",
      "12      123004  Cadeia Produtiva    Não Informado\n",
      "13      123004  Cadeia Produtiva    Não Informado\n",
      "14      123004  Cadeia Produtiva    Não Informado\n",
      "15      123004  Cadeia Produtiva    Não Informado\n",
      "16      123004  Cadeia Produtiva    Não Informado\n",
      "17      123004  Cadeia Produtiva    Não Informado\n",
      "18      123004  Cadeia Produtiva    Não Informado\n",
      "19      123004  Cadeia Produtiva    Não Informado\n",
      "20      123004  Cadeia Produtiva    Não Informado\n",
      "21      123005  Cadeia Produtiva    Não Informado\n",
      "22      123006  Cadeia Produtiva    Não Informado\n",
      "23      123007  Cadeia Produtiva    Não Informado\n",
      "24      123008  Cadeia Produtiva    Não Informado\n",
      "25      123009  Cadeia Produtiva    Não Informado\n",
      "26      123009  Cadeia Produtiva    Não Informado\n",
      "27      123010  Cadeia Produtiva    Não Informado\n",
      "28      123010  Cadeia Produtiva    Não Informado\n",
      "29      123011  Cadeia Produtiva    Não Informado\n",
      "30      123011  Cadeia Produtiva    Não Informado\n",
      "31      123011  Cadeia Produtiva    Não Informado\n"
     ]
    }
   ],
   "source": [
    "consulta_sql = \"\"\"\n",
    "WITH atributos_limpos AS (\n",
    "    SELECT \n",
    "        \"ID PRODUTO\",\n",
    "        \"ATRIBUTO\",\n",
    "        COALESCE(\"DETALHE ATRIBUTO\", 'Não Informado') AS \"DETALHE ATRIBUTO\"\n",
    "    FROM atributos\n",
    "    WHERE \"ATRIBUTO\" = 'Cadeia Produtiva'\n",
    ")\n",
    "SELECT * FROM atributos_limpos;\n",
    "\"\"\"\n",
    "\n",
    "resultado = con.execute(consulta_sql).fetchdf()\n",
    "atributos_limpos = resultado.copy()\n",
    "print(atributos_limpos)"
   ]
  },
  {
   "cell_type": "code",
   "execution_count": 19,
   "id": "46654927-5eb9-4d38-94a3-ef9dc25a67f5",
   "metadata": {},
   "outputs": [
    {
     "name": "stdout",
     "output_type": "stream",
     "text": [
      "(10, 4)\n"
     ]
    }
   ],
   "source": [
    "# Analise da tabela lojas \n",
    "\n",
    "print(lojas.shape)"
   ]
  },
  {
   "cell_type": "code",
   "execution_count": 20,
   "id": "05221d85-cab6-41a7-83f4-05b8563bd275",
   "metadata": {},
   "outputs": [
    {
     "name": "stdout",
     "output_type": "stream",
     "text": [
      "   ID LOJA  ID CIDADE UNIDADE DA FEDERAÇÃO   REGIÃO\n",
      "0  Loja001      20027                   RS      SUL\n",
      "1  Loja002      20027                   RS      SUL\n",
      "2  Loja003      20027                  NaN      SUL\n",
      "3  Loja004      20027                   RS      SUL\n",
      "4  Loja005      15428                   SP  SUDESTE\n",
      "5  Loja006      15428                   SP  SUDESTE\n",
      "6  Loja007      15428                  NaN  SUDESTE\n",
      "7  Loja008      15428                   SP  SUDESTE\n",
      "8  Loja009      33005                   RJ  SUDESTE\n",
      "9  Loja010      33005                   RJ  SUDESTE\n"
     ]
    }
   ],
   "source": [
    "print(lojas)"
   ]
  },
  {
   "cell_type": "markdown",
   "id": "803176bb-1bf0-4d7e-87b6-6dc65b47a1df",
   "metadata": {},
   "source": [
    "- Tratamento em Python:"
   ]
  },
  {
   "cell_type": "code",
   "execution_count": 21,
   "id": "6ef237d9-74d4-4946-bfb2-049566ecd31e",
   "metadata": {},
   "outputs": [
    {
     "name": "stdout",
     "output_type": "stream",
     "text": [
      "   ID LOJA  ID CIDADE UNIDADE DA FEDERAÇÃO   REGIÃO\n",
      "0  Loja001      20027                   RS      SUL\n",
      "1  Loja002      20027                   RS      SUL\n",
      "2  Loja003      20027                   RS      SUL\n",
      "3  Loja004      20027                   RS      SUL\n",
      "4  Loja005      15428                   SP  SUDESTE\n",
      "5  Loja006      15428                   SP  SUDESTE\n",
      "6  Loja007      15428                   SP  SUDESTE\n",
      "7  Loja008      15428                   SP  SUDESTE\n",
      "8  Loja009      33005                   RJ  SUDESTE\n",
      "9  Loja010      33005                   RJ  SUDESTE\n"
     ]
    }
   ],
   "source": [
    "# Preenchimento da Unidade de Federação de acordo com o 'ID CIDADE'\n",
    "\n",
    "lojas_limpas = lojas.copy()\n",
    "lojas_limpas.loc[lojas['ID LOJA'] == 'Loja003', 'UNIDADE DA FEDERAÇÃO'] = 'RS'\n",
    "lojas_limpas.loc[lojas['ID LOJA'] == 'Loja007', 'UNIDADE DA FEDERAÇÃO'] = 'SP'\n",
    "print(lojas_limpas)\n"
   ]
  },
  {
   "cell_type": "markdown",
   "id": "00a19775-d894-497e-8315-afc6ff4ba36c",
   "metadata": {},
   "source": [
    "- Tratamento em SQL:"
   ]
  },
  {
   "cell_type": "code",
   "execution_count": 22,
   "id": "45be29b3-6223-4012-9245-f7abb4a59985",
   "metadata": {},
   "outputs": [
    {
     "name": "stdout",
     "output_type": "stream",
     "text": [
      "   ID LOJA  ID CIDADE UNIDADE DA FEDERAÇÃO   REGIÃO\n",
      "0  Loja001      20027                   RS      SUL\n",
      "1  Loja002      20027                   RS      SUL\n",
      "2  Loja003      20027                   RS      SUL\n",
      "3  Loja004      20027                   RS      SUL\n",
      "4  Loja005      15428                   SP  SUDESTE\n",
      "5  Loja006      15428                   SP  SUDESTE\n",
      "6  Loja007      15428                   SP  SUDESTE\n",
      "7  Loja008      15428                   SP  SUDESTE\n",
      "8  Loja009      33005                   RJ  SUDESTE\n",
      "9  Loja010      33005                   RJ  SUDESTE\n"
     ]
    }
   ],
   "source": [
    "consulta_sql = \"\"\"\n",
    "WITH lojas_limpas AS (\n",
    "    SELECT \n",
    "        \"ID LOJA\",\n",
    "        \"ID CIDADE\",\n",
    "        CASE \n",
    "            WHEN \"ID LOJA\" = 'Loja003' THEN 'RS'\n",
    "            WHEN \"ID LOJA\" = 'Loja007' THEN 'SP'\n",
    "            ELSE \"UNIDADE DA FEDERAÇÃO\"\n",
    "        END AS \"UNIDADE DA FEDERAÇÃO\",\n",
    "        \"REGIÃO\"\n",
    "    FROM lojas\n",
    ")\n",
    "SELECT * FROM lojas_limpas;\n",
    "\"\"\"\n",
    "\n",
    "lojas_limpas = con.execute(consulta_sql).fetchdf()\n",
    "print(lojas_limpas)"
   ]
  },
  {
   "cell_type": "code",
   "execution_count": 23,
   "id": "c44cecd3-5e8d-4154-a3a8-679b00e82756",
   "metadata": {},
   "outputs": [
    {
     "data": {
      "text/html": [
       "<div>\n",
       "<style scoped>\n",
       "    .dataframe tbody tr th:only-of-type {\n",
       "        vertical-align: middle;\n",
       "    }\n",
       "\n",
       "    .dataframe tbody tr th {\n",
       "        vertical-align: top;\n",
       "    }\n",
       "\n",
       "    .dataframe thead th {\n",
       "        text-align: right;\n",
       "    }\n",
       "</style>\n",
       "<table border=\"1\" class=\"dataframe\">\n",
       "  <thead>\n",
       "    <tr style=\"text-align: right;\">\n",
       "      <th></th>\n",
       "      <th>ID CLIENTE</th>\n",
       "      <th>GENERO</th>\n",
       "      <th>FAIXA DE IDADE</th>\n",
       "      <th>CLASSE SOCIAL</th>\n",
       "    </tr>\n",
       "  </thead>\n",
       "  <tbody>\n",
       "    <tr>\n",
       "      <th>10</th>\n",
       "      <td>90010</td>\n",
       "      <td>M</td>\n",
       "      <td>45+</td>\n",
       "      <td>B</td>\n",
       "    </tr>\n",
       "    <tr>\n",
       "      <th>17</th>\n",
       "      <td>90017</td>\n",
       "      <td>M</td>\n",
       "      <td>45+</td>\n",
       "      <td>NaN</td>\n",
       "    </tr>\n",
       "    <tr>\n",
       "      <th>78</th>\n",
       "      <td>90078</td>\n",
       "      <td>M</td>\n",
       "      <td>45+</td>\n",
       "      <td>C</td>\n",
       "    </tr>\n",
       "    <tr>\n",
       "      <th>91</th>\n",
       "      <td>90091</td>\n",
       "      <td>M</td>\n",
       "      <td>45+</td>\n",
       "      <td>D</td>\n",
       "    </tr>\n",
       "    <tr>\n",
       "      <th>93</th>\n",
       "      <td>90093</td>\n",
       "      <td>M</td>\n",
       "      <td>45+</td>\n",
       "      <td>E</td>\n",
       "    </tr>\n",
       "    <tr>\n",
       "      <th>97</th>\n",
       "      <td>90097</td>\n",
       "      <td>M</td>\n",
       "      <td>45+</td>\n",
       "      <td>C</td>\n",
       "    </tr>\n",
       "  </tbody>\n",
       "</table>\n",
       "</div>"
      ],
      "text/plain": [
       "    ID CLIENTE GENERO FAIXA DE IDADE CLASSE SOCIAL\n",
       "10       90010      M            45+             B\n",
       "17       90017      M            45+           NaN\n",
       "78       90078      M            45+             C\n",
       "91       90091      M            45+             D\n",
       "93       90093      M            45+             E\n",
       "97       90097      M            45+             C"
      ]
     },
     "metadata": {},
     "output_type": "display_data"
    }
   ],
   "source": [
    "# Avaliando perfis para possível preenchimento de NaN do campo 'CLASSE SOCIAL'\n",
    "clientes_filtrados = clientes[\n",
    "    (clientes['GENERO'] == 'M') &\n",
    "    (clientes['FAIXA DE IDADE'].isin(['45+']))\n",
    "]\n",
    "display(clientes_filtrados)"
   ]
  },
  {
   "cell_type": "code",
   "execution_count": 24,
   "id": "90ce1f9b-2ab3-48a3-8861-2c77c8c3b064",
   "metadata": {},
   "outputs": [
    {
     "name": "stdout",
     "output_type": "stream",
     "text": [
      "GENERO\n",
      "F    64\n",
      "M    29\n",
      "X     7\n",
      "Name: count, dtype: int64\n",
      "FAIXA DE IDADE\n",
      "25-35    50\n",
      "35-45    30\n",
      "18-25    11\n",
      "45+       9\n",
      "Name: count, dtype: int64\n",
      "CLASSE SOCIAL\n",
      "C    48\n",
      "D    15\n",
      "B    12\n",
      "A    11\n",
      "E    10\n",
      "Name: count, dtype: int64\n"
     ]
    }
   ],
   "source": [
    "print(clientes['GENERO'].value_counts())\n",
    "print(clientes['FAIXA DE IDADE'].value_counts())\n",
    "print(clientes['CLASSE SOCIAL'].value_counts())"
   ]
  },
  {
   "cell_type": "markdown",
   "id": "c8bb314c-f054-4f22-966d-76f1a7ca979f",
   "metadata": {},
   "source": [
    "Aguardando análise complementar para decidir o manejo adequado."
   ]
  },
  {
   "cell_type": "code",
   "execution_count": 25,
   "id": "b1389724-28ea-4ecc-8add-a7bddbac121c",
   "metadata": {},
   "outputs": [
    {
     "name": "stdout",
     "output_type": "stream",
     "text": [
      "\n",
      "Valores duplicados nos datasets:\n",
      "Transações: 0\n",
      "Atributos: 292\n",
      "Lojas: 0\n",
      "Clientes: 0\n"
     ]
    }
   ],
   "source": [
    "# Verificando se há registros duplicados\n",
    "print(\"\\nValores duplicados nos datasets:\")\n",
    "print(\"Transações:\", transacoes.duplicated().sum())\n",
    "print(\"Atributos:\", atributos.duplicated().sum())\n",
    "print(\"Lojas:\", lojas.duplicated().sum())\n",
    "print(\"Clientes:\", clientes.duplicated().sum())"
   ]
  },
  {
   "cell_type": "code",
   "execution_count": 26,
   "id": "47d09084-918c-45db-92ab-38aa9f39e094",
   "metadata": {},
   "outputs": [
    {
     "data": {
      "text/html": [
       "<div>\n",
       "<style scoped>\n",
       "    .dataframe tbody tr th:only-of-type {\n",
       "        vertical-align: middle;\n",
       "    }\n",
       "\n",
       "    .dataframe tbody tr th {\n",
       "        vertical-align: top;\n",
       "    }\n",
       "\n",
       "    .dataframe thead th {\n",
       "        text-align: right;\n",
       "    }\n",
       "</style>\n",
       "<table border=\"1\" class=\"dataframe\">\n",
       "  <thead>\n",
       "    <tr style=\"text-align: right;\">\n",
       "      <th></th>\n",
       "      <th>ID PRODUTO</th>\n",
       "      <th>ATRIBUTO</th>\n",
       "      <th>DETALHE ATRIBUTO</th>\n",
       "    </tr>\n",
       "  </thead>\n",
       "  <tbody>\n",
       "    <tr>\n",
       "      <th>17</th>\n",
       "      <td>123000</td>\n",
       "      <td>Marca</td>\n",
       "      <td>Cortelle</td>\n",
       "    </tr>\n",
       "    <tr>\n",
       "      <th>18</th>\n",
       "      <td>123000</td>\n",
       "      <td>Localização</td>\n",
       "      <td>Solo</td>\n",
       "    </tr>\n",
       "    <tr>\n",
       "      <th>19</th>\n",
       "      <td>123000</td>\n",
       "      <td>Calendario</td>\n",
       "      <td>Todo Ano</td>\n",
       "    </tr>\n",
       "    <tr>\n",
       "      <th>20</th>\n",
       "      <td>123000</td>\n",
       "      <td>Piramide Mercadologica</td>\n",
       "      <td>Essential</td>\n",
       "    </tr>\n",
       "    <tr>\n",
       "      <th>21</th>\n",
       "      <td>123000</td>\n",
       "      <td>Natureza</td>\n",
       "      <td>Normal</td>\n",
       "    </tr>\n",
       "    <tr>\n",
       "      <th>...</th>\n",
       "      <td>...</td>\n",
       "      <td>...</td>\n",
       "      <td>...</td>\n",
       "    </tr>\n",
       "    <tr>\n",
       "      <th>464</th>\n",
       "      <td>123011</td>\n",
       "      <td>Programa</td>\n",
       "      <td>Sem Programa</td>\n",
       "    </tr>\n",
       "    <tr>\n",
       "      <th>465</th>\n",
       "      <td>123011</td>\n",
       "      <td>Modelagem</td>\n",
       "      <td>Aprovada com Restricao</td>\n",
       "    </tr>\n",
       "    <tr>\n",
       "      <th>466</th>\n",
       "      <td>123011</td>\n",
       "      <td>Push &amp; Pull</td>\n",
       "      <td>Nao</td>\n",
       "    </tr>\n",
       "    <tr>\n",
       "      <th>467</th>\n",
       "      <td>123011</td>\n",
       "      <td>Cadeia Produtiva</td>\n",
       "      <td>NaN</td>\n",
       "    </tr>\n",
       "    <tr>\n",
       "      <th>468</th>\n",
       "      <td>123011</td>\n",
       "      <td>Fit Top</td>\n",
       "      <td>Camisa</td>\n",
       "    </tr>\n",
       "  </tbody>\n",
       "</table>\n",
       "<p>292 rows × 3 columns</p>\n",
       "</div>"
      ],
      "text/plain": [
       "     ID PRODUTO                ATRIBUTO        DETALHE ATRIBUTO\n",
       "17       123000                   Marca                Cortelle\n",
       "18       123000             Localização                    Solo\n",
       "19       123000              Calendario                Todo Ano\n",
       "20       123000  Piramide Mercadologica               Essential\n",
       "21       123000                Natureza                  Normal\n",
       "..          ...                     ...                     ...\n",
       "464      123011                Programa            Sem Programa\n",
       "465      123011               Modelagem  Aprovada com Restricao\n",
       "466      123011             Push & Pull                     Nao\n",
       "467      123011        Cadeia Produtiva                     NaN\n",
       "468      123011                 Fit Top                  Camisa\n",
       "\n",
       "[292 rows x 3 columns]"
      ]
     },
     "metadata": {},
     "output_type": "display_data"
    }
   ],
   "source": [
    "# Analisando os registros duplicados\n",
    "duplicados = atributos[atributos.duplicated()]\n",
    "display(duplicados)"
   ]
  },
  {
   "cell_type": "markdown",
   "id": "8a96156a-e858-4838-b395-e6ece390bf06",
   "metadata": {},
   "source": [
    "Apenas o 'ID PRODUTO' repete a informação, a cada registro o campo 'DETALHE ATRIBUTO' se altera."
   ]
  },
  {
   "cell_type": "markdown",
   "id": "23f13bfd-7dd5-4085-9137-36a3ffed791c",
   "metadata": {},
   "source": [
    "## Bloco de Perguntas Técnicas"
   ]
  },
  {
   "cell_type": "markdown",
   "id": "19d8c5b1-5529-4c6f-9e44-551cf35e2f87",
   "metadata": {},
   "source": [
    "### 1. Filtrando apenas clientes da CLASSE SOCIAL que mais comprou produtos no período (em VALOR VENDA), diga quantos destes clientes compraram peças em PROMOÇÃO em cada UNIDADE DA FEDERAÇÃO."
   ]
  },
  {
   "cell_type": "markdown",
   "id": "78ad7e3f-0392-4d2e-bac7-03ced2e972a4",
   "metadata": {},
   "source": [
    "#### Análise em Python"
   ]
  },
  {
   "cell_type": "code",
   "execution_count": 27,
   "id": "ebd55301-f718-4690-a0c4-a77d875f3e78",
   "metadata": {},
   "outputs": [
    {
     "name": "stdout",
     "output_type": "stream",
     "text": [
      "\n",
      "Vendas Totais por Classe Social:\n"
     ]
    },
    {
     "data": {
      "text/html": [
       "<div>\n",
       "<style scoped>\n",
       "    .dataframe tbody tr th:only-of-type {\n",
       "        vertical-align: middle;\n",
       "    }\n",
       "\n",
       "    .dataframe tbody tr th {\n",
       "        vertical-align: top;\n",
       "    }\n",
       "\n",
       "    .dataframe thead th {\n",
       "        text-align: right;\n",
       "    }\n",
       "</style>\n",
       "<table border=\"1\" class=\"dataframe\">\n",
       "  <thead>\n",
       "    <tr style=\"text-align: right;\">\n",
       "      <th></th>\n",
       "      <th>CLASSE SOCIAL</th>\n",
       "      <th>VALOR VENDA</th>\n",
       "    </tr>\n",
       "  </thead>\n",
       "  <tbody>\n",
       "    <tr>\n",
       "      <th>2</th>\n",
       "      <td>C</td>\n",
       "      <td>446077.81</td>\n",
       "    </tr>\n",
       "    <tr>\n",
       "      <th>3</th>\n",
       "      <td>D</td>\n",
       "      <td>128447.93</td>\n",
       "    </tr>\n",
       "    <tr>\n",
       "      <th>1</th>\n",
       "      <td>B</td>\n",
       "      <td>110213.23</td>\n",
       "    </tr>\n",
       "    <tr>\n",
       "      <th>0</th>\n",
       "      <td>A</td>\n",
       "      <td>103425.65</td>\n",
       "    </tr>\n",
       "    <tr>\n",
       "      <th>4</th>\n",
       "      <td>E</td>\n",
       "      <td>93923.41</td>\n",
       "    </tr>\n",
       "  </tbody>\n",
       "</table>\n",
       "</div>"
      ],
      "text/plain": [
       "  CLASSE SOCIAL  VALOR VENDA\n",
       "2             C    446077.81\n",
       "3             D    128447.93\n",
       "1             B    110213.23\n",
       "0             A    103425.65\n",
       "4             E     93923.41"
      ]
     },
     "metadata": {},
     "output_type": "display_data"
    }
   ],
   "source": [
    "# Juntando os dados de transações com os dados de clientes\n",
    "transacoes_clientes = pd.merge(transacoes_limpo, clientes, left_on='ID CLIENTE', right_on='ID CLIENTE')\n",
    "\n",
    "# Agrupando por classe social e somando os valores de venda\n",
    "vendas_por_classe = transacoes_clientes.groupby('CLASSE SOCIAL')['VALOR VENDA'].sum().reset_index()\n",
    "vendas_por_classe = vendas_por_classe.sort_values(by='VALOR VENDA', ascending=False)\n",
    "print(\"\\nVendas Totais por Classe Social:\")\n",
    "display(vendas_por_classe)"
   ]
  },
  {
   "cell_type": "code",
   "execution_count": 28,
   "id": "705c7adc-ec54-45d4-b173-65c8a75eece9",
   "metadata": {},
   "outputs": [
    {
     "name": "stdout",
     "output_type": "stream",
     "text": [
      "\n",
      "Quantidade de clientes da classe C: 48\n"
     ]
    }
   ],
   "source": [
    "# Identificando a classe social que mais comprou em valor\n",
    "classe_mais_comprou = vendas_por_classe.iloc[0]['CLASSE SOCIAL']\n",
    "clientes_classe_alvo = clientes[clientes['CLASSE SOCIAL'] == classe_mais_comprou]\n",
    "print(f\"\\nQuantidade de clientes da classe {classe_mais_comprou}: {len(clientes_classe_alvo)}\")"
   ]
  },
  {
   "cell_type": "code",
   "execution_count": 29,
   "id": "9a40797d-ea94-4bfa-8ce8-02acff549a32",
   "metadata": {},
   "outputs": [],
   "source": [
    "# Filtrando transações apenas para clientes da classe social alvo que fizeram compras em promoção\n",
    "transacoes_classe_promo = transacoes_clientes[\n",
    "    (transacoes_clientes['CLASSE SOCIAL'] == classe_mais_comprou) & \n",
    "    (transacoes_clientes['PROMOÇÃO'] == 1)\n",
    "]\n",
    "\n",
    "# Juntando com os dados de lojas para obter a UF\n",
    "transacoes_classe_promo_uf = pd.merge(\n",
    "    transacoes_classe_promo, \n",
    "    lojas_limpas, \n",
    "    left_on='ID LOJA', \n",
    "    right_on='ID LOJA'\n",
    ")\n",
    "\n",
    "# Contando clientes únicos que compraram em promoção por UF\n",
    "clientes_promo_por_uf = transacoes_classe_promo_uf.groupby('UNIDADE DA FEDERAÇÃO')['ID CLIENTE'].nunique().reset_index()\n",
    "clientes_promo_por_uf.columns = ['UNIDADE DA FEDERAÇÃO', 'QUANTIDADE DE CLIENTES']"
   ]
  },
  {
   "cell_type": "code",
   "execution_count": 30,
   "id": "adec95ef-b683-4fd4-8924-3ae0ec711dee",
   "metadata": {},
   "outputs": [
    {
     "data": {
      "image/png": "[encoded data removed]",
      "text/plain": [
       "<Figure size 1200x700 with 1 Axes>"
      ]
     },
     "metadata": {},
     "output_type": "display_data"
    }
   ],
   "source": [
    "def plot_clientes_por_uf(clientes_promo_por_uf, classe_mais_comprou):\n",
    "    \"\"\"\n",
    "    Função para plotar o gráfico de barras e tabela de clientes por unidade da federação.\n",
    "\n",
    "    Args:\n",
    "    - clientes_promo_por_uf: DataFrame contendo as informações de clientes e UF.\n",
    "    - classe_mais_comprou: Classe social com maior compra.\n",
    "    \"\"\"\n",
    "    sns.set_theme(style=\"whitegrid\")\n",
    "    clientes_promo_por_uf_sorted = clientes_promo_por_uf.sort_values(by='QUANTIDADE DE CLIENTES', ascending=False)\n",
    "    \n",
    "    plt.figure(figsize=(12, 7))\n",
    "    sns.barplot(\n",
    "        x='UNIDADE DA FEDERAÇÃO', \n",
    "        y='QUANTIDADE DE CLIENTES', \n",
    "        hue='UNIDADE DA FEDERAÇÃO',  \n",
    "        data=clientes_promo_por_uf_sorted,\n",
    "        palette=sns.color_palette(\"Set2\", n_colors=len(clientes_promo_por_uf['UNIDADE DA FEDERAÇÃO'].unique())),\n",
    "        legend=False)\n",
    "    plt.title(f'Clientes da Classe Social {classe_mais_comprou} que Compraram em Promoção por UF', fontsize=14, weight='bold')\n",
    "    plt.xlabel('')\n",
    "    plt.ylabel('')\n",
    "    plt.grid(axis='y', linestyle='--', alpha= 0.7)\n",
    "    plt.table(\n",
    "        cellText=clientes_promo_por_uf_sorted.values,\n",
    "        colLabels=clientes_promo_por_uf_sorted.columns,\n",
    "        loc='bottom',  \n",
    "        cellLoc='center', \n",
    "        colColours=[\"#f1f1f1\"]*len(clientes_promo_por_uf_sorted.columns),\n",
    "        bbox=[0.0, -0.55, 1.0, 0.3] \n",
    "    )\n",
    "    plt.subplots_adjust(bottom=0.3)  \n",
    "    plt.show()\n",
    "\n",
    "\n",
    "plot_clientes_por_uf(clientes_promo_por_uf, classe_mais_comprou)\n"
   ]
  },
  {
   "cell_type": "markdown",
   "id": "93473b83-8666-49af-b1c5-37d4265fd6fc",
   "metadata": {},
   "source": [
    "**Os clientes da Classe C foram os que mais realizaram compras no período de fevereiro de 2022 a setembro de 2023, conforme os dados disponíveis. Entre eles, 46 adquiriram produtos em promoção no estado do Rio Grande do Sul (RS), 44 em São Paulo (SP) e 40 no Rio de Janeiro (RJ).**"
   ]
  },
  {
   "cell_type": "markdown",
   "id": "b42c7f3f-d11d-4b6e-bb18-178f8ee1be7e",
   "metadata": {},
   "source": [
    "#### Análise em SQL"
   ]
  },
  {
   "cell_type": "code",
   "execution_count": 31,
   "id": "d6d4de05-d694-497a-bc73-88cba5fa642e",
   "metadata": {},
   "outputs": [
    {
     "name": "stdout",
     "output_type": "stream",
     "text": [
      "\n",
      "Vendas Totais por Classe Social:\n",
      "  CLASSE SOCIAL  TOTAL VENDA\n",
      "0             C    446077.81\n",
      "1             D    128447.93\n",
      "2             B    110213.23\n",
      "3             A    103425.65\n",
      "4             E     93923.41\n",
      "5          None     36594.28\n"
     ]
    }
   ],
   "source": [
    "consulta_sql = \"\"\"\n",
    "SELECT \n",
    "    c.\"CLASSE SOCIAL\",\n",
    "    SUM(t.\"VALOR VENDA\") AS \"TOTAL VENDA\"\n",
    "FROM transacoes_limpas t\n",
    "JOIN clientes c \n",
    "    ON t.\"ID CLIENTE\" = c.\"ID CLIENTE\"\n",
    "GROUP BY c.\"CLASSE SOCIAL\"\n",
    "ORDER BY \"TOTAL VENDA\" DESC;\n",
    "\"\"\"\n",
    "\n",
    "vendas_por_classe = con.execute(consulta_sql).fetchdf()\n",
    "print(\"\\nVendas Totais por Classe Social:\")\n",
    "print(vendas_por_classe)\n"
   ]
  },
  {
   "cell_type": "code",
   "execution_count": 32,
   "id": "c00b6d1d-45d8-480b-bca9-17a9e717f393",
   "metadata": {},
   "outputs": [
    {
     "name": "stdout",
     "output_type": "stream",
     "text": [
      "   qtd_clientes CLASSE SOCIAL\n",
      "0            48             C\n"
     ]
    }
   ],
   "source": [
    "consulta_sql = \"\"\"\n",
    "WITH classe_mais_comprou AS (\n",
    "    SELECT \n",
    "        c.\"CLASSE SOCIAL\",\n",
    "        SUM(t.\"VALOR VENDA\") AS total_vendas\n",
    "    FROM transacoes_limpas t\n",
    "    JOIN clientes c ON t.\"ID CLIENTE\" = c.\"ID CLIENTE\"\n",
    "    GROUP BY c.\"CLASSE SOCIAL\"\n",
    "    ORDER BY total_vendas DESC\n",
    "    LIMIT 1\n",
    ")\n",
    "SELECT \n",
    "    COUNT(*) AS qtd_clientes,\n",
    "    ANY_VALUE(c.\"CLASSE SOCIAL\") AS \"CLASSE SOCIAL\"\n",
    "FROM clientes c\n",
    "JOIN classe_mais_comprou cmc \n",
    "    ON c.\"CLASSE SOCIAL\" = cmc.\"CLASSE SOCIAL\";\n",
    "\"\"\"\n",
    "\n",
    "resultado = con.execute(consulta_sql).fetchdf()\n",
    "print(resultado)"
   ]
  },
  {
   "cell_type": "code",
   "execution_count": 33,
   "id": "9bb0948d-7ac6-4e89-bedf-6d72da12742e",
   "metadata": {},
   "outputs": [
    {
     "name": "stdout",
     "output_type": "stream",
     "text": [
      "  UNIDADE DA FEDERAÇÃO  QUANTIDADE DE CLIENTES\n",
      "0                   RS                      46\n",
      "1                   SP                      44\n",
      "2                   RJ                      40\n"
     ]
    }
   ],
   "source": [
    "consulta_sql = \"\"\"\n",
    "WITH classe_mais_lucrativa AS (\n",
    "    SELECT \n",
    "        c.\"CLASSE SOCIAL\"\n",
    "    FROM transacoes_limpas t\n",
    "    JOIN clientes c ON t.\"ID CLIENTE\" = c.\"ID CLIENTE\"\n",
    "    GROUP BY c.\"CLASSE SOCIAL\"\n",
    "    ORDER BY SUM(t.\"VALOR VENDA\") DESC\n",
    "    LIMIT 1\n",
    "),\n",
    "\n",
    "transacoes_filtradas AS (\n",
    "    SELECT \n",
    "        t.\"ID CLIENTE\",\n",
    "        t.\"ID LOJA\"\n",
    "    FROM transacoes_limpas t\n",
    "    JOIN clientes c \n",
    "        ON t.\"ID CLIENTE\" = c.\"ID CLIENTE\"\n",
    "    JOIN classe_mais_lucrativa cls \n",
    "        ON c.\"CLASSE SOCIAL\" = cls.\"CLASSE SOCIAL\"\n",
    "    WHERE t.\"PROMOÇÃO\" = 1\n",
    "),\n",
    "\n",
    "clientes_uf AS (\n",
    "    SELECT \n",
    "        tf.\"ID CLIENTE\",\n",
    "        l.\"UNIDADE DA FEDERAÇÃO\"\n",
    "    FROM transacoes_filtradas tf\n",
    "    JOIN lojas_limpas l \n",
    "        ON tf.\"ID LOJA\" = l.\"ID LOJA\"\n",
    ")\n",
    "\n",
    "SELECT \n",
    "    \"UNIDADE DA FEDERAÇÃO\",\n",
    "    COUNT(DISTINCT \"ID CLIENTE\") AS \"QUANTIDADE DE CLIENTES\"\n",
    "FROM clientes_uf\n",
    "GROUP BY \"UNIDADE DA FEDERAÇÃO\"\n",
    "ORDER BY \"QUANTIDADE DE CLIENTES\" DESC;\n",
    "\"\"\"\n",
    "resultado = con.execute(consulta_sql).fetchdf()\n",
    "print(resultado)"
   ]
  },
  {
   "cell_type": "markdown",
   "id": "0f54c9c3-579f-49cc-b511-f4b9a308094f",
   "metadata": {},
   "source": [
    "### 2.\tFiltrando apenas as transações de peças da COR azul, diga qual foi o TAMANHO que mais vendeu por cada UNIDADE DA FEDERAÇÃO."
   ]
  },
  {
   "cell_type": "markdown",
   "id": "83ba3816-8920-4aee-902e-09c53d42e264",
   "metadata": {},
   "source": [
    "#### Análise em Python"
   ]
  },
  {
   "cell_type": "code",
   "execution_count": 34,
   "id": "be18c738-a6fe-4b93-81ec-050ebdfaf38b",
   "metadata": {},
   "outputs": [
    {
     "name": "stdout",
     "output_type": "stream",
     "text": [
      "Cores disponíveis:\n",
      "['Cinza' 'Preto' 'Vermelho' 'Azul']\n",
      "\n",
      "Tamanhos disponíveis:\n",
      "['P' 'M' 'G' 'GG']\n"
     ]
    }
   ],
   "source": [
    "print(\"Cores disponíveis:\")\n",
    "print(transacoes_limpo['COR'].unique())\n",
    "print(\"\\nTamanhos disponíveis:\")\n",
    "print(transacoes_limpo['TAMANHO'].unique())"
   ]
  },
  {
   "cell_type": "code",
   "execution_count": 35,
   "id": "7d7785ac-90c6-48ea-bd36-01035303ac9d",
   "metadata": {},
   "outputs": [
    {
     "data": {
      "text/html": [
       "<div>\n",
       "<style scoped>\n",
       "    .dataframe tbody tr th:only-of-type {\n",
       "        vertical-align: middle;\n",
       "    }\n",
       "\n",
       "    .dataframe tbody tr th {\n",
       "        vertical-align: top;\n",
       "    }\n",
       "\n",
       "    .dataframe thead th {\n",
       "        text-align: right;\n",
       "    }\n",
       "</style>\n",
       "<table border=\"1\" class=\"dataframe\">\n",
       "  <thead>\n",
       "    <tr style=\"text-align: right;\">\n",
       "      <th></th>\n",
       "      <th>ID TRANSAÇÃO</th>\n",
       "      <th>DATA</th>\n",
       "      <th>ID LOJA</th>\n",
       "      <th>ID PRODUTO</th>\n",
       "      <th>ID CLIENTE</th>\n",
       "      <th>PEÇAS VENDA</th>\n",
       "      <th>DESCRIÇÃO</th>\n",
       "      <th>TAMANHO</th>\n",
       "      <th>COR</th>\n",
       "      <th>VALOR VENDA</th>\n",
       "      <th>PROMOÇÃO</th>\n",
       "      <th>ID CIDADE</th>\n",
       "      <th>UNIDADE DA FEDERAÇÃO</th>\n",
       "      <th>REGIÃO</th>\n",
       "    </tr>\n",
       "  </thead>\n",
       "  <tbody>\n",
       "    <tr>\n",
       "      <th>0</th>\n",
       "      <td>1</td>\n",
       "      <td>2022-01-02</td>\n",
       "      <td>Loja007</td>\n",
       "      <td>123005</td>\n",
       "      <td>90023</td>\n",
       "      <td>2</td>\n",
       "      <td>Blusa em malha</td>\n",
       "      <td>P</td>\n",
       "      <td>Cinza</td>\n",
       "      <td>99.98</td>\n",
       "      <td>0</td>\n",
       "      <td>15428</td>\n",
       "      <td>SP</td>\n",
       "      <td>SUDESTE</td>\n",
       "    </tr>\n",
       "    <tr>\n",
       "      <th>1</th>\n",
       "      <td>2</td>\n",
       "      <td>2022-01-02</td>\n",
       "      <td>Loja009</td>\n",
       "      <td>123004</td>\n",
       "      <td>90092</td>\n",
       "      <td>1</td>\n",
       "      <td>Regata</td>\n",
       "      <td>M</td>\n",
       "      <td>Cinza</td>\n",
       "      <td>35.99</td>\n",
       "      <td>0</td>\n",
       "      <td>33005</td>\n",
       "      <td>RJ</td>\n",
       "      <td>SUDESTE</td>\n",
       "    </tr>\n",
       "    <tr>\n",
       "      <th>2</th>\n",
       "      <td>3</td>\n",
       "      <td>2022-01-02</td>\n",
       "      <td>Loja001</td>\n",
       "      <td>123001</td>\n",
       "      <td>90027</td>\n",
       "      <td>2</td>\n",
       "      <td>Calça algodão</td>\n",
       "      <td>G</td>\n",
       "      <td>Cinza</td>\n",
       "      <td>51.98</td>\n",
       "      <td>0</td>\n",
       "      <td>20027</td>\n",
       "      <td>RS</td>\n",
       "      <td>SUL</td>\n",
       "    </tr>\n",
       "    <tr>\n",
       "      <th>3</th>\n",
       "      <td>4</td>\n",
       "      <td>2022-01-02</td>\n",
       "      <td>Loja003</td>\n",
       "      <td>123001</td>\n",
       "      <td>90097</td>\n",
       "      <td>2</td>\n",
       "      <td>Calça algodão</td>\n",
       "      <td>G</td>\n",
       "      <td>Cinza</td>\n",
       "      <td>51.98</td>\n",
       "      <td>0</td>\n",
       "      <td>20027</td>\n",
       "      <td>RS</td>\n",
       "      <td>SUL</td>\n",
       "    </tr>\n",
       "    <tr>\n",
       "      <th>4</th>\n",
       "      <td>5</td>\n",
       "      <td>2022-01-02</td>\n",
       "      <td>Loja004</td>\n",
       "      <td>123004</td>\n",
       "      <td>90089</td>\n",
       "      <td>2</td>\n",
       "      <td>Regata</td>\n",
       "      <td>M</td>\n",
       "      <td>Cinza</td>\n",
       "      <td>71.98</td>\n",
       "      <td>0</td>\n",
       "      <td>20027</td>\n",
       "      <td>RS</td>\n",
       "      <td>SUL</td>\n",
       "    </tr>\n",
       "  </tbody>\n",
       "</table>\n",
       "</div>"
      ],
      "text/plain": [
       "   ID TRANSAÇÃO       DATA  ID LOJA  ID PRODUTO  ID CLIENTE  PEÇAS VENDA  \\\n",
       "0             1 2022-01-02  Loja007      123005       90023            2   \n",
       "1             2 2022-01-02  Loja009      123004       90092            1   \n",
       "2             3 2022-01-02  Loja001      123001       90027            2   \n",
       "3             4 2022-01-02  Loja003      123001       90097            2   \n",
       "4             5 2022-01-02  Loja004      123004       90089            2   \n",
       "\n",
       "        DESCRIÇÃO TAMANHO    COR  VALOR VENDA  PROMOÇÃO  ID CIDADE  \\\n",
       "0  Blusa em malha       P  Cinza        99.98         0      15428   \n",
       "1          Regata       M  Cinza        35.99         0      33005   \n",
       "2   Calça algodão       G  Cinza        51.98         0      20027   \n",
       "3   Calça algodão       G  Cinza        51.98         0      20027   \n",
       "4          Regata       M  Cinza        71.98         0      20027   \n",
       "\n",
       "  UNIDADE DA FEDERAÇÃO   REGIÃO  \n",
       "0                   SP  SUDESTE  \n",
       "1                   RJ  SUDESTE  \n",
       "2                   RS      SUL  \n",
       "3                   RS      SUL  \n",
       "4                   RS      SUL  "
      ]
     },
     "metadata": {},
     "output_type": "display_data"
    }
   ],
   "source": [
    "# Join das tabelas de transações e lojas\n",
    "df_merged = pd.merge(transacoes_limpo, lojas_limpas, on='ID LOJA', how='left')\n",
    "display(df_merged.head())"
   ]
  },
  {
   "cell_type": "code",
   "execution_count": 36,
   "id": "bac24083-3dac-40cc-a352-57023e83ecd9",
   "metadata": {},
   "outputs": [
    {
     "name": "stdout",
     "output_type": "stream",
     "text": [
      "Número de linhas na tabela de transações: 7785\n",
      "Número de linhas após a junção: 7785\n"
     ]
    }
   ],
   "source": [
    "# Validando o número de registros\n",
    "\n",
    "print(f\"Número de linhas na tabela de transações: {len(transacoes_limpo)}\")\n",
    "print(f\"Número de linhas após a junção: {len(df_merged)}\")"
   ]
  },
  {
   "cell_type": "code",
   "execution_count": 37,
   "id": "820084d1-2f14-487c-a4f2-5a3fa25eda7b",
   "metadata": {},
   "outputs": [
    {
     "name": "stdout",
     "output_type": "stream",
     "text": [
      "Número de transações com peças azuis: 793\n"
     ]
    }
   ],
   "source": [
    "# Apenas transações de cor azul\n",
    "\n",
    "df_azul = df_merged[df_merged['COR'] == 'Azul']\n",
    "print(f\"Número de transações com peças azuis: {len(df_azul)}\")"
   ]
  },
  {
   "cell_type": "code",
   "execution_count": 38,
   "id": "0e470335-dec5-458f-af2a-5d94be06b78c",
   "metadata": {},
   "outputs": [
    {
     "name": "stdout",
     "output_type": "stream",
     "text": [
      "Vendas por UF e TAMANHO:\n"
     ]
    },
    {
     "data": {
      "text/html": [
       "<div>\n",
       "<style scoped>\n",
       "    .dataframe tbody tr th:only-of-type {\n",
       "        vertical-align: middle;\n",
       "    }\n",
       "\n",
       "    .dataframe tbody tr th {\n",
       "        vertical-align: top;\n",
       "    }\n",
       "\n",
       "    .dataframe thead th {\n",
       "        text-align: right;\n",
       "    }\n",
       "</style>\n",
       "<table border=\"1\" class=\"dataframe\">\n",
       "  <thead>\n",
       "    <tr style=\"text-align: right;\">\n",
       "      <th></th>\n",
       "      <th>UNIDADE DA FEDERAÇÃO</th>\n",
       "      <th>TAMANHO</th>\n",
       "      <th>PEÇAS VENDA</th>\n",
       "    </tr>\n",
       "  </thead>\n",
       "  <tbody>\n",
       "    <tr>\n",
       "      <th>0</th>\n",
       "      <td>RJ</td>\n",
       "      <td>G</td>\n",
       "      <td>174</td>\n",
       "    </tr>\n",
       "    <tr>\n",
       "      <th>1</th>\n",
       "      <td>RJ</td>\n",
       "      <td>M</td>\n",
       "      <td>89</td>\n",
       "    </tr>\n",
       "    <tr>\n",
       "      <th>2</th>\n",
       "      <td>RJ</td>\n",
       "      <td>P</td>\n",
       "      <td>72</td>\n",
       "    </tr>\n",
       "    <tr>\n",
       "      <th>3</th>\n",
       "      <td>RS</td>\n",
       "      <td>G</td>\n",
       "      <td>360</td>\n",
       "    </tr>\n",
       "    <tr>\n",
       "      <th>4</th>\n",
       "      <td>RS</td>\n",
       "      <td>M</td>\n",
       "      <td>164</td>\n",
       "    </tr>\n",
       "    <tr>\n",
       "      <th>5</th>\n",
       "      <td>RS</td>\n",
       "      <td>P</td>\n",
       "      <td>226</td>\n",
       "    </tr>\n",
       "    <tr>\n",
       "      <th>6</th>\n",
       "      <td>SP</td>\n",
       "      <td>G</td>\n",
       "      <td>378</td>\n",
       "    </tr>\n",
       "    <tr>\n",
       "      <th>7</th>\n",
       "      <td>SP</td>\n",
       "      <td>M</td>\n",
       "      <td>190</td>\n",
       "    </tr>\n",
       "    <tr>\n",
       "      <th>8</th>\n",
       "      <td>SP</td>\n",
       "      <td>P</td>\n",
       "      <td>232</td>\n",
       "    </tr>\n",
       "  </tbody>\n",
       "</table>\n",
       "</div>"
      ],
      "text/plain": [
       "  UNIDADE DA FEDERAÇÃO TAMANHO  PEÇAS VENDA\n",
       "0                   RJ       G          174\n",
       "1                   RJ       M           89\n",
       "2                   RJ       P           72\n",
       "3                   RS       G          360\n",
       "4                   RS       M          164\n",
       "5                   RS       P          226\n",
       "6                   SP       G          378\n",
       "7                   SP       M          190\n",
       "8                   SP       P          232"
      ]
     },
     "metadata": {},
     "output_type": "display_data"
    }
   ],
   "source": [
    "df_vendas_por_uf_tamanho = df_azul.groupby(['UNIDADE DA FEDERAÇÃO', 'TAMANHO'])['PEÇAS VENDA'].sum().reset_index()\n",
    "print(\"Vendas por UF e TAMANHO:\")\n",
    "display(df_vendas_por_uf_tamanho)"
   ]
  },
  {
   "cell_type": "code",
   "execution_count": 39,
   "id": "20d9c157-3e03-48bd-aaae-fd99e2bc5b55",
   "metadata": {},
   "outputs": [
    {
     "name": "stdout",
     "output_type": "stream",
     "text": [
      "Lojas com UF nula:\n",
      "Empty DataFrame\n",
      "Columns: [ID LOJA, ID CIDADE, UNIDADE DA FEDERAÇÃO, REGIÃO]\n",
      "Index: []\n",
      "Número de transações com UF nula:\n",
      "0\n"
     ]
    }
   ],
   "source": [
    "# Validação\n",
    "\n",
    "print(\"Lojas com UF nula:\")\n",
    "print(lojas_limpas[lojas_limpas['UNIDADE DA FEDERAÇÃO'].isna()])\n",
    "transacoes_uf_nula = df_merged[df_merged['UNIDADE DA FEDERAÇÃO'].isna()]\n",
    "print(\"Número de transações com UF nula:\")\n",
    "print(len(transacoes_uf_nula))"
   ]
  },
  {
   "cell_type": "code",
   "execution_count": 40,
   "id": "9c71d010-4dee-4a39-bdc5-5f346dffc9ec",
   "metadata": {},
   "outputs": [
    {
     "name": "stdout",
     "output_type": "stream",
     "text": [
      "Tamanho que mais vendeu por UF (peças azuis):\n",
      "\n"
     ]
    },
    {
     "data": {
      "text/html": [
       "<div>\n",
       "<style scoped>\n",
       "    .dataframe tbody tr th:only-of-type {\n",
       "        vertical-align: middle;\n",
       "    }\n",
       "\n",
       "    .dataframe tbody tr th {\n",
       "        vertical-align: top;\n",
       "    }\n",
       "\n",
       "    .dataframe thead th {\n",
       "        text-align: right;\n",
       "    }\n",
       "</style>\n",
       "<table border=\"1\" class=\"dataframe\">\n",
       "  <thead>\n",
       "    <tr style=\"text-align: right;\">\n",
       "      <th></th>\n",
       "      <th>UNIDADE DA FEDERAÇÃO</th>\n",
       "      <th>TAMANHO</th>\n",
       "      <th>PEÇAS VENDA</th>\n",
       "    </tr>\n",
       "  </thead>\n",
       "  <tbody>\n",
       "    <tr>\n",
       "      <th>0</th>\n",
       "      <td>RJ</td>\n",
       "      <td>G</td>\n",
       "      <td>174</td>\n",
       "    </tr>\n",
       "    <tr>\n",
       "      <th>1</th>\n",
       "      <td>RS</td>\n",
       "      <td>G</td>\n",
       "      <td>360</td>\n",
       "    </tr>\n",
       "    <tr>\n",
       "      <th>2</th>\n",
       "      <td>SP</td>\n",
       "      <td>G</td>\n",
       "      <td>378</td>\n",
       "    </tr>\n",
       "  </tbody>\n",
       "</table>\n",
       "</div>"
      ],
      "text/plain": [
       "  UNIDADE DA FEDERAÇÃO TAMANHO  PEÇAS VENDA\n",
       "0                   RJ       G          174\n",
       "1                   RS       G          360\n",
       "2                   SP       G          378"
      ]
     },
     "metadata": {},
     "output_type": "display_data"
    }
   ],
   "source": [
    "df_vendas_por_uf_tamanho = df_azul.groupby(['UNIDADE DA FEDERAÇÃO', 'TAMANHO'])['PEÇAS VENDA'].sum().reset_index()\n",
    "\n",
    "def tamanho_mais_vendido(grupo):\n",
    "    idx = grupo['PEÇAS VENDA'].idxmax() \n",
    "    return grupo.loc[idx]\n",
    "\n",
    "df_resultado = (\n",
    "    df_vendas_por_uf_tamanho\n",
    "    .sort_values('PEÇAS VENDA', ascending=False)\n",
    "    .drop_duplicates(subset=['UNIDADE DA FEDERAÇÃO'])\n",
    "    .sort_values('UNIDADE DA FEDERAÇÃO')\n",
    "    .reset_index(drop=True)\n",
    ")\n",
    "\n",
    "df_resultado = df_resultado.sort_values('UNIDADE DA FEDERAÇÃO')\n",
    "\n",
    "print(\"Tamanho que mais vendeu por UF (peças azuis):\\n\")\n",
    "display(df_resultado)"
   ]
  },
  {
   "cell_type": "code",
   "execution_count": 41,
   "id": "9e06fcd6-8f64-49e5-b174-0d9c5ab7253a",
   "metadata": {},
   "outputs": [
    {
     "data": {
      "image/png": "[encoded data removed]",
      "text/plain": [
       "<Figure size 1200x700 with 1 Axes>"
      ]
     },
     "metadata": {},
     "output_type": "display_data"
    }
   ],
   "source": [
    "sns.set_theme(style=\"whitegrid\")\n",
    "\n",
    "plt.figure(figsize=(12, 7))\n",
    "sns.barplot(\n",
    "    data=df_resultado,\n",
    "    x='UNIDADE DA FEDERAÇÃO',\n",
    "    y='PEÇAS VENDA',\n",
    "    hue='TAMANHO',\n",
    "    palette='viridis'\n",
    ")\n",
    "\n",
    "plt.title('Tamanho Mais Vendido por UF - Peças Azuis', fontsize=14, weight='bold')\n",
    "plt.xlabel('')\n",
    "plt.ylabel('Peças Vendidas', fontsize=12)\n",
    "plt.xticks(rotation=0)\n",
    "plt.legend(title='Tamanho', bbox_to_anchor=(1.05, 1), loc='upper left')\n",
    "plt.tight_layout()\n",
    "plt.grid(axis='y', linestyle='--', alpha=0.7)\n",
    "plt.show()"
   ]
  },
  {
   "cell_type": "markdown",
   "id": "bbbef9de-93c4-43da-a150-11797593d277",
   "metadata": {},
   "source": [
    "#### Análise em SQL"
   ]
  },
  {
   "cell_type": "code",
   "execution_count": 42,
   "id": "6692df33-de14-4e5e-87cf-2c08bb599c99",
   "metadata": {},
   "outputs": [
    {
     "name": "stdout",
     "output_type": "stream",
     "text": [
      "  UNIDADE DA FEDERAÇÃO TAMANHO  PEÇAS VENDIDAS\n",
      "0                   RJ       G           174.0\n",
      "1                   RS       G           360.0\n",
      "2                   SP       G           378.0\n"
     ]
    }
   ],
   "source": [
    "consulta_sql = \"\"\"\n",
    "WITH PecasAzuis AS (\n",
    "    SELECT \n",
    "        COALESCE(l.\"UNIDADE DA FEDERAÇÃO\", 'Não Informado') AS UF,\n",
    "        TRIM(t.TAMANHO) AS TAMANHO,\n",
    "        SUM(t.\"PEÇAS VENDA\") AS TOTAL_VENDIDO\n",
    "    FROM \n",
    "        transacoes_limpas t\n",
    "    LEFT JOIN \n",
    "        lojas_limpas l ON t.\"ID LOJA\" = l.\"ID LOJA\"\n",
    "    WHERE \n",
    "        t.COR = 'Azul'\n",
    "    GROUP BY \n",
    "        COALESCE(l.\"UNIDADE DA FEDERAÇÃO\", 'Não Informado'), \n",
    "        TRIM(t.TAMANHO)\n",
    "),\n",
    "RankingVendas AS (\n",
    "    SELECT \n",
    "        UF, \n",
    "        TAMANHO, \n",
    "        TOTAL_VENDIDO,\n",
    "        RANK() OVER (PARTITION BY UF ORDER BY TOTAL_VENDIDO DESC) AS RANKING\n",
    "    FROM \n",
    "        PecasAzuis\n",
    ")\n",
    "SELECT \n",
    "    UF AS \"UNIDADE DA FEDERAÇÃO\",\n",
    "    TAMANHO,\n",
    "    TOTAL_VENDIDO AS \"PEÇAS VENDIDAS\"\n",
    "FROM \n",
    "    RankingVendas\n",
    "WHERE \n",
    "    RANKING = 1\n",
    "ORDER BY \n",
    "    UF;\n",
    "\"\"\"\n",
    "resultado = con.execute(consulta_sql).fetchdf()\n",
    "print(resultado)"
   ]
  },
  {
   "cell_type": "markdown",
   "id": "495fd391-ec41-4822-bf05-2f2f27cb5bdc",
   "metadata": {},
   "source": [
    "### 3.\tObtenha o tipo do item (definido no campo DESCRIÇÃO) que vendeu mais peças da COR vermelha em 2023 do que em 2022 (em todas as UNIDADES DA FEDERAÇÃO). Qual foi o valor vendido no RS em 2022 para esse tipo de item independentemente da COR?"
   ]
  },
  {
   "cell_type": "markdown",
   "id": "c07ebc6a-270c-4c9e-b9fc-9e597368df9f",
   "metadata": {},
   "source": [
    "#### Análise em Python"
   ]
  },
  {
   "cell_type": "code",
   "execution_count": 43,
   "id": "162ff9bc-4c14-4f4d-ae58-8690a454b2f2",
   "metadata": {},
   "outputs": [
    {
     "name": "stdout",
     "output_type": "stream",
     "text": [
      "\n",
      "Vendas por descrição e cor:\n",
      "\n"
     ]
    },
    {
     "data": {
      "text/html": [
       "<div>\n",
       "<style scoped>\n",
       "    .dataframe tbody tr th:only-of-type {\n",
       "        vertical-align: middle;\n",
       "    }\n",
       "\n",
       "    .dataframe tbody tr th {\n",
       "        vertical-align: top;\n",
       "    }\n",
       "\n",
       "    .dataframe thead th {\n",
       "        text-align: right;\n",
       "    }\n",
       "</style>\n",
       "<table border=\"1\" class=\"dataframe\">\n",
       "  <thead>\n",
       "    <tr style=\"text-align: right;\">\n",
       "      <th></th>\n",
       "      <th>DESCRIÇÃO</th>\n",
       "      <th>COR</th>\n",
       "      <th>PEÇAS VENDA</th>\n",
       "    </tr>\n",
       "  </thead>\n",
       "  <tbody>\n",
       "    <tr>\n",
       "      <th>0</th>\n",
       "      <td>Blusa em malha</td>\n",
       "      <td>Cinza</td>\n",
       "      <td>1969</td>\n",
       "    </tr>\n",
       "    <tr>\n",
       "      <th>1</th>\n",
       "      <td>Blusa manga curta</td>\n",
       "      <td>Vermelho</td>\n",
       "      <td>1985</td>\n",
       "    </tr>\n",
       "    <tr>\n",
       "      <th>2</th>\n",
       "      <td>Calça Xadrez</td>\n",
       "      <td>Azul</td>\n",
       "      <td>912</td>\n",
       "    </tr>\n",
       "    <tr>\n",
       "      <th>3</th>\n",
       "      <td>Calça algodão</td>\n",
       "      <td>Cinza</td>\n",
       "      <td>1473</td>\n",
       "    </tr>\n",
       "    <tr>\n",
       "      <th>4</th>\n",
       "      <td>Calça liso</td>\n",
       "      <td>Azul</td>\n",
       "      <td>530</td>\n",
       "    </tr>\n",
       "    <tr>\n",
       "      <th>5</th>\n",
       "      <td>Calça pantalona</td>\n",
       "      <td>Vermelho</td>\n",
       "      <td>1938</td>\n",
       "    </tr>\n",
       "    <tr>\n",
       "      <th>6</th>\n",
       "      <td>Camisa em viscose</td>\n",
       "      <td>Azul</td>\n",
       "      <td>443</td>\n",
       "    </tr>\n",
       "    <tr>\n",
       "      <th>7</th>\n",
       "      <td>Camisa jeans</td>\n",
       "      <td>Vermelho</td>\n",
       "      <td>1911</td>\n",
       "    </tr>\n",
       "    <tr>\n",
       "      <th>8</th>\n",
       "      <td>Camisa manga longa</td>\n",
       "      <td>Preto</td>\n",
       "      <td>2002</td>\n",
       "    </tr>\n",
       "    <tr>\n",
       "      <th>9</th>\n",
       "      <td>Colete</td>\n",
       "      <td>Preto</td>\n",
       "      <td>1923</td>\n",
       "    </tr>\n",
       "    <tr>\n",
       "      <th>10</th>\n",
       "      <td>Jaqueta</td>\n",
       "      <td>Vermelho</td>\n",
       "      <td>1403</td>\n",
       "    </tr>\n",
       "    <tr>\n",
       "      <th>11</th>\n",
       "      <td>Regata</td>\n",
       "      <td>Cinza</td>\n",
       "      <td>2023</td>\n",
       "    </tr>\n",
       "  </tbody>\n",
       "</table>\n",
       "</div>"
      ],
      "text/plain": [
       "             DESCRIÇÃO       COR  PEÇAS VENDA\n",
       "0       Blusa em malha     Cinza         1969\n",
       "1    Blusa manga curta  Vermelho         1985\n",
       "2         Calça Xadrez      Azul          912\n",
       "3        Calça algodão     Cinza         1473\n",
       "4           Calça liso      Azul          530\n",
       "5      Calça pantalona  Vermelho         1938\n",
       "6    Camisa em viscose      Azul          443\n",
       "7         Camisa jeans  Vermelho         1911\n",
       "8   Camisa manga longa     Preto         2002\n",
       "9               Colete     Preto         1923\n",
       "10             Jaqueta  Vermelho         1403\n",
       "11              Regata     Cinza         2023"
      ]
     },
     "metadata": {},
     "output_type": "display_data"
    }
   ],
   "source": [
    "# Agrupando vendas por descrição e cor\n",
    "vendas_por_descricao_cor = df_merged.groupby(['DESCRIÇÃO', 'COR'])['PEÇAS VENDA'].sum().reset_index()\n",
    "print(\"\\nVendas por descrição e cor:\\n\")\n",
    "display(vendas_por_descricao_cor)"
   ]
  },
  {
   "cell_type": "code",
   "execution_count": 44,
   "id": "a283407e-889d-430a-a8ac-4491ca30163e",
   "metadata": {},
   "outputs": [
    {
     "name": "stdout",
     "output_type": "stream",
     "text": [
      "\n",
      "O tipo de item que mais vendeu na cor vermelha em 2023 (mais que em 2022) foi: Jaqueta\n",
      "Com um total de 896 peças vendidas em 2023.\n"
     ]
    }
   ],
   "source": [
    "# Validando o tipo\n",
    "df_merged['DATA'] = pd.to_datetime(transacoes['DATA'])\n",
    "\n",
    "# Filtra vendas da cor vermelha e adiciona o ano\n",
    "vendas_vermelhas = df_merged[df_merged['COR'].str.lower() == 'vermelho'].copy()\n",
    "vendas_vermelhas['ANO'] = vendas_vermelhas['DATA'].dt.year\n",
    "\n",
    "# Agrupa por DESCRIÇÃO e ANO, somando as peças vendidas\n",
    "vendas_agrupadas = vendas_vermelhas.groupby(['DESCRIÇÃO', 'ANO'])['PEÇAS VENDA'].sum().unstack(fill_value=0).reset_index()\n",
    "\n",
    "# Filtra os itens que venderam mais em 2023 do que em 2022\n",
    "vendas_maiores_2023 = vendas_agrupadas[vendas_agrupadas.get(2023, 0) > vendas_agrupadas.get(2022, 0)].copy()\n",
    "\n",
    "# Ordena por total de vendas em 2023 e pega o item mais vendido\n",
    "if not vendas_maiores_2023.empty:\n",
    "    item_top = vendas_maiores_2023.sort_values(by=2023, ascending=False).iloc[0]\n",
    "    descricao = item_top['DESCRIÇÃO']\n",
    "    total_vendido = item_top[2023]\n",
    "\n",
    "    print(f\"\\nO tipo de item que mais vendeu na cor vermelha em 2023 (mais que em 2022) foi: {descricao}\")\n",
    "    print(f\"Com um total de {total_vendido} peças vendidas em 2023.\")\n",
    "else:\n",
    "    print(\"\\nNenhum item da cor vermelha teve vendas maiores em 2023 do que em 2022.\")"
   ]
  },
  {
   "cell_type": "code",
   "execution_count": 45,
   "id": "d6ff4859-79fb-4681-82bc-ce06549fb788",
   "metadata": {},
   "outputs": [
    {
     "name": "stdout",
     "output_type": "stream",
     "text": [
      "\n",
      "O valor total vendido no RS em 2022 para Jaqueta (independente da cor) foi: R$ 20835.70\n"
     ]
    }
   ],
   "source": [
    "# Calculando o valor vendido no RS em 2022 para esse tipo de item independentemente da cor\n",
    "vendas_rs_2022 = df_merged[\n",
    "    (df_merged['DESCRIÇÃO'] == descricao) & \n",
    "    (df_merged['UNIDADE DA FEDERAÇÃO'] == 'RS') & \n",
    "    (df_merged['DATA'].dt.year == 2022)\n",
    "]\n",
    "\n",
    "valor_total_rs = vendas_rs_2022['VALOR VENDA'].sum()\n",
    "print(f\"\\nO valor total vendido no RS em 2022 para {descricao} (independente da cor) foi: R$ {valor_total_rs:.2f}\")\n"
   ]
  },
  {
   "cell_type": "markdown",
   "id": "121ce211-6b00-4e35-989a-da57551508dd",
   "metadata": {},
   "source": [
    "#### Análise em SQL"
   ]
  },
  {
   "cell_type": "code",
   "execution_count": 46,
   "id": "b0f340e0-d609-4616-a6b0-e06b7b45cb08",
   "metadata": {},
   "outputs": [
    {
     "name": "stdout",
     "output_type": "stream",
     "text": [
      "  DESCRIÇÃO  vendas_2023  vendas_2022\n",
      "0   Jaqueta        896.0        507.0\n"
     ]
    }
   ],
   "source": [
    "consulta_sql = \"\"\"\n",
    "\n",
    "WITH vendas_vermelhas AS (\n",
    "    SELECT \n",
    "        DESCRIÇÃO,\n",
    "        EXTRACT(YEAR FROM DATA) AS ANO,\n",
    "        \"PEÇAS VENDA\"\n",
    "    FROM transacoes_limpas\n",
    "    WHERE LOWER(COR) = 'vermelho'\n",
    "),\n",
    "vendas_agrupadas AS (\n",
    "    SELECT \n",
    "        DESCRIÇÃO,\n",
    "        ANO,\n",
    "        SUM(\"PEÇAS VENDA\") AS total_vendido\n",
    "    FROM vendas_vermelhas\n",
    "    GROUP BY DESCRIÇÃO, ANO\n",
    "),\n",
    "vendas_pivot AS (\n",
    "    SELECT \n",
    "        DESCRIÇÃO,\n",
    "        SUM(CASE WHEN ANO = 2022 THEN total_vendido ELSE 0 END) AS vendas_2022,\n",
    "        SUM(CASE WHEN ANO = 2023 THEN total_vendido ELSE 0 END) AS vendas_2023\n",
    "    FROM vendas_agrupadas\n",
    "    GROUP BY DESCRIÇÃO\n",
    "),\n",
    "vendas_maiores_2023 AS (\n",
    "    SELECT *\n",
    "    FROM vendas_pivot\n",
    "    WHERE vendas_2023 > vendas_2022\n",
    ")\n",
    "SELECT \n",
    "    DESCRIÇÃO,\n",
    "    vendas_2023,\n",
    "    vendas_2022\n",
    "FROM vendas_maiores_2023\n",
    "ORDER BY vendas_2023 DESC\n",
    "LIMIT 1;\n",
    "\n",
    "\"\"\"\n",
    "\n",
    "resultado = con.execute(consulta_sql).fetchdf()\n",
    "print(resultado)"
   ]
  },
  {
   "cell_type": "code",
   "execution_count": 47,
   "id": "854ae150-ca36-4f73-9b1d-013b53bef79a",
   "metadata": {},
   "outputs": [
    {
     "name": "stdout",
     "output_type": "stream",
     "text": [
      "   valor_total_rs\n",
      "0         20835.7\n"
     ]
    }
   ],
   "source": [
    "consulta_sql = \"\"\"\n",
    "SELECT \n",
    "    SUM(t.\"VALOR VENDA\") AS valor_total_rs\n",
    "FROM transacoes_limpas AS t\n",
    "INNER JOIN lojas_limpas AS l ON t.\"ID LOJA\" = l.\"ID LOJA\"\n",
    "WHERE \n",
    "    t.\"DESCRIÇÃO\" = 'Jaqueta'\n",
    "    AND l.\"UNIDADE DA FEDERAÇÃO\" = 'RS'\n",
    "    AND EXTRACT(YEAR FROM t.\"DATA\") = 2022;\n",
    "\"\"\"\n",
    "\n",
    "resultado = con.execute(consulta_sql).fetchdf()\n",
    "print(resultado)"
   ]
  },
  {
   "cell_type": "markdown",
   "id": "e9ed13ce-9095-4f52-9c66-bf29c75fcaee",
   "metadata": {},
   "source": [
    "### 4. Para a COR cinza no ano de 2023, assumindo que não há crescimento ou decrescimento da demanda, compare a média e a dispersão, semana a semana, de VALOR VENDA por TAMANHO (P, M e G). Utilize o teste de inferência estatística mais adequado e prove qual TAMANHO tem maior VALOR VENDA médio que os demais (precisa mostrar a significância estatística)."
   ]
  },
  {
   "cell_type": "markdown",
   "id": "becc61ea-f88d-4c0f-8aca-560fca51ad23",
   "metadata": {},
   "source": [
    "#### Análise em Python"
   ]
  },
  {
   "cell_type": "code",
   "execution_count": 48,
   "id": "4b114b25-4884-4709-a17f-75afcdf5b1dd",
   "metadata": {},
   "outputs": [
    {
     "data": {
      "text/html": [
       "<div>\n",
       "<style scoped>\n",
       "    .dataframe tbody tr th:only-of-type {\n",
       "        vertical-align: middle;\n",
       "    }\n",
       "\n",
       "    .dataframe tbody tr th {\n",
       "        vertical-align: top;\n",
       "    }\n",
       "\n",
       "    .dataframe thead th {\n",
       "        text-align: right;\n",
       "    }\n",
       "</style>\n",
       "<table border=\"1\" class=\"dataframe\">\n",
       "  <thead>\n",
       "    <tr style=\"text-align: right;\">\n",
       "      <th></th>\n",
       "      <th>ID TRANSAÇÃO</th>\n",
       "      <th>DATA</th>\n",
       "      <th>ID LOJA</th>\n",
       "      <th>ID PRODUTO</th>\n",
       "      <th>ID CLIENTE</th>\n",
       "      <th>PEÇAS VENDA</th>\n",
       "      <th>DESCRIÇÃO</th>\n",
       "      <th>TAMANHO</th>\n",
       "      <th>COR</th>\n",
       "      <th>VALOR VENDA</th>\n",
       "      <th>PROMOÇÃO</th>\n",
       "      <th>ANO</th>\n",
       "      <th>MES</th>\n",
       "      <th>SEMANA</th>\n",
       "    </tr>\n",
       "  </thead>\n",
       "  <tbody>\n",
       "    <tr>\n",
       "      <th>0</th>\n",
       "      <td>1</td>\n",
       "      <td>2022-01-02</td>\n",
       "      <td>Loja007</td>\n",
       "      <td>123005</td>\n",
       "      <td>90023</td>\n",
       "      <td>2</td>\n",
       "      <td>Blusa em malha</td>\n",
       "      <td>P</td>\n",
       "      <td>Cinza</td>\n",
       "      <td>99.98</td>\n",
       "      <td>0</td>\n",
       "      <td>2022</td>\n",
       "      <td>1</td>\n",
       "      <td>52</td>\n",
       "    </tr>\n",
       "    <tr>\n",
       "      <th>1</th>\n",
       "      <td>2</td>\n",
       "      <td>2022-01-02</td>\n",
       "      <td>Loja009</td>\n",
       "      <td>123004</td>\n",
       "      <td>90092</td>\n",
       "      <td>1</td>\n",
       "      <td>Regata</td>\n",
       "      <td>M</td>\n",
       "      <td>Cinza</td>\n",
       "      <td>35.99</td>\n",
       "      <td>0</td>\n",
       "      <td>2022</td>\n",
       "      <td>1</td>\n",
       "      <td>52</td>\n",
       "    </tr>\n",
       "    <tr>\n",
       "      <th>2</th>\n",
       "      <td>3</td>\n",
       "      <td>2022-01-02</td>\n",
       "      <td>Loja001</td>\n",
       "      <td>123001</td>\n",
       "      <td>90027</td>\n",
       "      <td>2</td>\n",
       "      <td>Calça algodão</td>\n",
       "      <td>G</td>\n",
       "      <td>Cinza</td>\n",
       "      <td>51.98</td>\n",
       "      <td>0</td>\n",
       "      <td>2022</td>\n",
       "      <td>1</td>\n",
       "      <td>52</td>\n",
       "    </tr>\n",
       "    <tr>\n",
       "      <th>3</th>\n",
       "      <td>4</td>\n",
       "      <td>2022-01-02</td>\n",
       "      <td>Loja003</td>\n",
       "      <td>123001</td>\n",
       "      <td>90097</td>\n",
       "      <td>2</td>\n",
       "      <td>Calça algodão</td>\n",
       "      <td>G</td>\n",
       "      <td>Cinza</td>\n",
       "      <td>51.98</td>\n",
       "      <td>0</td>\n",
       "      <td>2022</td>\n",
       "      <td>1</td>\n",
       "      <td>52</td>\n",
       "    </tr>\n",
       "    <tr>\n",
       "      <th>4</th>\n",
       "      <td>5</td>\n",
       "      <td>2022-01-02</td>\n",
       "      <td>Loja004</td>\n",
       "      <td>123004</td>\n",
       "      <td>90089</td>\n",
       "      <td>2</td>\n",
       "      <td>Regata</td>\n",
       "      <td>M</td>\n",
       "      <td>Cinza</td>\n",
       "      <td>71.98</td>\n",
       "      <td>0</td>\n",
       "      <td>2022</td>\n",
       "      <td>1</td>\n",
       "      <td>52</td>\n",
       "    </tr>\n",
       "  </tbody>\n",
       "</table>\n",
       "</div>"
      ],
      "text/plain": [
       "   ID TRANSAÇÃO       DATA  ID LOJA  ID PRODUTO  ID CLIENTE  PEÇAS VENDA  \\\n",
       "0             1 2022-01-02  Loja007      123005       90023            2   \n",
       "1             2 2022-01-02  Loja009      123004       90092            1   \n",
       "2             3 2022-01-02  Loja001      123001       90027            2   \n",
       "3             4 2022-01-02  Loja003      123001       90097            2   \n",
       "4             5 2022-01-02  Loja004      123004       90089            2   \n",
       "\n",
       "        DESCRIÇÃO TAMANHO    COR  VALOR VENDA  PROMOÇÃO   ANO  MES  SEMANA  \n",
       "0  Blusa em malha       P  Cinza        99.98         0  2022    1      52  \n",
       "1          Regata       M  Cinza        35.99         0  2022    1      52  \n",
       "2   Calça algodão       G  Cinza        51.98         0  2022    1      52  \n",
       "3   Calça algodão       G  Cinza        51.98         0  2022    1      52  \n",
       "4          Regata       M  Cinza        71.98         0  2022    1      52  "
      ]
     },
     "execution_count": 48,
     "metadata": {},
     "output_type": "execute_result"
    }
   ],
   "source": [
    "# Validando os dados e adicionando colunas para ano, mês e semana\n",
    "transacoes_limpo['DATA'] = pd.to_datetime(transacoes_limpo['DATA'], format='%d/%m/%Y')\n",
    "transacoes_limpo['ANO'] = transacoes_limpo['DATA'].dt.year\n",
    "transacoes_limpo['MES'] = transacoes_limpo['DATA'].dt.month\n",
    "transacoes_limpo['SEMANA'] = transacoes_limpo['DATA'].dt.isocalendar().week\n",
    "transacoes_limpo.head()"
   ]
  },
  {
   "cell_type": "code",
   "execution_count": 49,
   "id": "64f8b463-bfad-44a0-b66d-3900de0f287b",
   "metadata": {},
   "outputs": [
    {
     "name": "stdout",
     "output_type": "stream",
     "text": [
      "Total de registros para cor cinza e tamanhos P, M e G: 1032\n",
      "\n",
      "Distribuição por tamanho:\n",
      "TAMANHO\n",
      "P    432\n",
      "M    395\n",
      "G    205\n",
      "Name: count, dtype: int64\n",
      "\n",
      "Amostra dos dados filtrados:\n"
     ]
    },
    {
     "data": {
      "text/html": [
       "<div>\n",
       "<style scoped>\n",
       "    .dataframe tbody tr th:only-of-type {\n",
       "        vertical-align: middle;\n",
       "    }\n",
       "\n",
       "    .dataframe tbody tr th {\n",
       "        vertical-align: top;\n",
       "    }\n",
       "\n",
       "    .dataframe thead th {\n",
       "        text-align: right;\n",
       "    }\n",
       "</style>\n",
       "<table border=\"1\" class=\"dataframe\">\n",
       "  <thead>\n",
       "    <tr style=\"text-align: right;\">\n",
       "      <th></th>\n",
       "      <th>ID TRANSAÇÃO</th>\n",
       "      <th>DATA</th>\n",
       "      <th>ID LOJA</th>\n",
       "      <th>ID PRODUTO</th>\n",
       "      <th>ID CLIENTE</th>\n",
       "      <th>PEÇAS VENDA</th>\n",
       "      <th>DESCRIÇÃO</th>\n",
       "      <th>TAMANHO</th>\n",
       "      <th>COR</th>\n",
       "      <th>VALOR VENDA</th>\n",
       "      <th>PROMOÇÃO</th>\n",
       "      <th>ANO</th>\n",
       "      <th>MES</th>\n",
       "      <th>SEMANA</th>\n",
       "    </tr>\n",
       "  </thead>\n",
       "  <tbody>\n",
       "    <tr>\n",
       "      <th>3877</th>\n",
       "      <td>9001</td>\n",
       "      <td>2023-01-01</td>\n",
       "      <td>Loja009</td>\n",
       "      <td>123005</td>\n",
       "      <td>90088</td>\n",
       "      <td>1</td>\n",
       "      <td>Blusa em malha</td>\n",
       "      <td>P</td>\n",
       "      <td>Cinza</td>\n",
       "      <td>42.99</td>\n",
       "      <td>0</td>\n",
       "      <td>2023</td>\n",
       "      <td>1</td>\n",
       "      <td>52</td>\n",
       "    </tr>\n",
       "    <tr>\n",
       "      <th>3880</th>\n",
       "      <td>9004</td>\n",
       "      <td>2023-01-01</td>\n",
       "      <td>Loja006</td>\n",
       "      <td>123005</td>\n",
       "      <td>90096</td>\n",
       "      <td>3</td>\n",
       "      <td>Blusa em malha</td>\n",
       "      <td>P</td>\n",
       "      <td>Cinza</td>\n",
       "      <td>128.97</td>\n",
       "      <td>0</td>\n",
       "      <td>2023</td>\n",
       "      <td>1</td>\n",
       "      <td>52</td>\n",
       "    </tr>\n",
       "    <tr>\n",
       "      <th>3882</th>\n",
       "      <td>9006</td>\n",
       "      <td>2023-01-01</td>\n",
       "      <td>Loja007</td>\n",
       "      <td>123001</td>\n",
       "      <td>90050</td>\n",
       "      <td>1</td>\n",
       "      <td>Calça algodão</td>\n",
       "      <td>G</td>\n",
       "      <td>Cinza</td>\n",
       "      <td>24.99</td>\n",
       "      <td>0</td>\n",
       "      <td>2023</td>\n",
       "      <td>1</td>\n",
       "      <td>52</td>\n",
       "    </tr>\n",
       "    <tr>\n",
       "      <th>3884</th>\n",
       "      <td>9008</td>\n",
       "      <td>2023-01-01</td>\n",
       "      <td>Loja003</td>\n",
       "      <td>123005</td>\n",
       "      <td>90074</td>\n",
       "      <td>3</td>\n",
       "      <td>Blusa em malha</td>\n",
       "      <td>P</td>\n",
       "      <td>Cinza</td>\n",
       "      <td>128.97</td>\n",
       "      <td>0</td>\n",
       "      <td>2023</td>\n",
       "      <td>1</td>\n",
       "      <td>52</td>\n",
       "    </tr>\n",
       "    <tr>\n",
       "      <th>3886</th>\n",
       "      <td>9010</td>\n",
       "      <td>2023-01-01</td>\n",
       "      <td>Loja010</td>\n",
       "      <td>123001</td>\n",
       "      <td>90041</td>\n",
       "      <td>1</td>\n",
       "      <td>Calça algodão</td>\n",
       "      <td>G</td>\n",
       "      <td>Cinza</td>\n",
       "      <td>24.99</td>\n",
       "      <td>0</td>\n",
       "      <td>2023</td>\n",
       "      <td>1</td>\n",
       "      <td>52</td>\n",
       "    </tr>\n",
       "  </tbody>\n",
       "</table>\n",
       "</div>"
      ],
      "text/plain": [
       "      ID TRANSAÇÃO       DATA  ID LOJA  ID PRODUTO  ID CLIENTE  PEÇAS VENDA  \\\n",
       "3877          9001 2023-01-01  Loja009      123005       90088            1   \n",
       "3880          9004 2023-01-01  Loja006      123005       90096            3   \n",
       "3882          9006 2023-01-01  Loja007      123001       90050            1   \n",
       "3884          9008 2023-01-01  Loja003      123005       90074            3   \n",
       "3886          9010 2023-01-01  Loja010      123001       90041            1   \n",
       "\n",
       "           DESCRIÇÃO TAMANHO    COR  VALOR VENDA  PROMOÇÃO   ANO  MES  SEMANA  \n",
       "3877  Blusa em malha       P  Cinza        42.99         0  2023    1      52  \n",
       "3880  Blusa em malha       P  Cinza       128.97         0  2023    1      52  \n",
       "3882   Calça algodão       G  Cinza        24.99         0  2023    1      52  \n",
       "3884  Blusa em malha       P  Cinza       128.97         0  2023    1      52  \n",
       "3886   Calça algodão       G  Cinza        24.99         0  2023    1      52  "
      ]
     },
     "execution_count": 49,
     "metadata": {},
     "output_type": "execute_result"
    }
   ],
   "source": [
    "df_cinza = transacoes_limpo[\n",
    "    (transacoes_limpo['COR'] == 'Cinza') & \n",
    "    (transacoes_limpo['ANO'] == 2023)\n",
    "]\n",
    "df_cinza = df_cinza[df_cinza['TAMANHO'].isin(['P', 'M', 'G'])]\n",
    "print(f\"Total de registros para cor cinza e tamanhos P, M e G: {len(df_cinza)}\")\n",
    "print(\"\\nDistribuição por tamanho:\")\n",
    "print(df_cinza['TAMANHO'].value_counts())\n",
    "print(\"\\nAmostra dos dados filtrados:\")\n",
    "df_cinza.head()"
   ]
  },
  {
   "cell_type": "code",
   "execution_count": 50,
   "id": "8593e1a0-cbbf-4aca-acc0-e84baa08082f",
   "metadata": {},
   "outputs": [
    {
     "name": "stdout",
     "output_type": "stream",
     "text": [
      "Estatísticas semanais por tamanho:\n"
     ]
    },
    {
     "data": {
      "text/html": [
       "<div>\n",
       "<style scoped>\n",
       "    .dataframe tbody tr th:only-of-type {\n",
       "        vertical-align: middle;\n",
       "    }\n",
       "\n",
       "    .dataframe tbody tr th {\n",
       "        vertical-align: top;\n",
       "    }\n",
       "\n",
       "    .dataframe thead th {\n",
       "        text-align: right;\n",
       "    }\n",
       "</style>\n",
       "<table border=\"1\" class=\"dataframe\">\n",
       "  <thead>\n",
       "    <tr style=\"text-align: right;\">\n",
       "      <th></th>\n",
       "      <th>SEMANA</th>\n",
       "      <th>TAMANHO</th>\n",
       "      <th>MEDIA_VALOR</th>\n",
       "      <th>DESVIO_PADRAO</th>\n",
       "      <th>CONTAGEM</th>\n",
       "    </tr>\n",
       "  </thead>\n",
       "  <tbody>\n",
       "    <tr>\n",
       "      <th>0</th>\n",
       "      <td>1</td>\n",
       "      <td>G</td>\n",
       "      <td>37.48</td>\n",
       "      <td>17.67</td>\n",
       "      <td>2</td>\n",
       "    </tr>\n",
       "    <tr>\n",
       "      <th>1</th>\n",
       "      <td>1</td>\n",
       "      <td>M</td>\n",
       "      <td>110.03</td>\n",
       "      <td>29.89</td>\n",
       "      <td>7</td>\n",
       "    </tr>\n",
       "    <tr>\n",
       "      <th>2</th>\n",
       "      <td>1</td>\n",
       "      <td>P</td>\n",
       "      <td>111.77</td>\n",
       "      <td>49.02</td>\n",
       "      <td>5</td>\n",
       "    </tr>\n",
       "    <tr>\n",
       "      <th>3</th>\n",
       "      <td>2</td>\n",
       "      <td>G</td>\n",
       "      <td>61.09</td>\n",
       "      <td>18.15</td>\n",
       "      <td>9</td>\n",
       "    </tr>\n",
       "    <tr>\n",
       "      <th>4</th>\n",
       "      <td>2</td>\n",
       "      <td>M</td>\n",
       "      <td>96.68</td>\n",
       "      <td>32.43</td>\n",
       "      <td>11</td>\n",
       "    </tr>\n",
       "    <tr>\n",
       "      <th>...</th>\n",
       "      <td>...</td>\n",
       "      <td>...</td>\n",
       "      <td>...</td>\n",
       "      <td>...</td>\n",
       "      <td>...</td>\n",
       "    </tr>\n",
       "    <tr>\n",
       "      <th>115</th>\n",
       "      <td>39</td>\n",
       "      <td>M</td>\n",
       "      <td>85.85</td>\n",
       "      <td>28.14</td>\n",
       "      <td>17</td>\n",
       "    </tr>\n",
       "    <tr>\n",
       "      <th>116</th>\n",
       "      <td>39</td>\n",
       "      <td>P</td>\n",
       "      <td>105.54</td>\n",
       "      <td>45.84</td>\n",
       "      <td>10</td>\n",
       "    </tr>\n",
       "    <tr>\n",
       "      <th>117</th>\n",
       "      <td>52</td>\n",
       "      <td>G</td>\n",
       "      <td>49.98</td>\n",
       "      <td>24.99</td>\n",
       "      <td>5</td>\n",
       "    </tr>\n",
       "    <tr>\n",
       "      <th>118</th>\n",
       "      <td>52</td>\n",
       "      <td>M</td>\n",
       "      <td>35.99</td>\n",
       "      <td>NaN</td>\n",
       "      <td>1</td>\n",
       "    </tr>\n",
       "    <tr>\n",
       "      <th>119</th>\n",
       "      <td>52</td>\n",
       "      <td>P</td>\n",
       "      <td>104.25</td>\n",
       "      <td>34.49</td>\n",
       "      <td>6</td>\n",
       "    </tr>\n",
       "  </tbody>\n",
       "</table>\n",
       "<p>120 rows × 5 columns</p>\n",
       "</div>"
      ],
      "text/plain": [
       "     SEMANA TAMANHO  MEDIA_VALOR  DESVIO_PADRAO  CONTAGEM\n",
       "0         1       G        37.48          17.67         2\n",
       "1         1       M       110.03          29.89         7\n",
       "2         1       P       111.77          49.02         5\n",
       "3         2       G        61.09          18.15         9\n",
       "4         2       M        96.68          32.43        11\n",
       "..      ...     ...          ...            ...       ...\n",
       "115      39       M        85.85          28.14        17\n",
       "116      39       P       105.54          45.84        10\n",
       "117      52       G        49.98          24.99         5\n",
       "118      52       M        35.99            NaN         1\n",
       "119      52       P       104.25          34.49         6\n",
       "\n",
       "[120 rows x 5 columns]"
      ]
     },
     "execution_count": 50,
     "metadata": {},
     "output_type": "execute_result"
    }
   ],
   "source": [
    "stats_semanais = df_cinza.groupby(['SEMANA', 'TAMANHO'])['VALOR VENDA'].agg(['mean', 'std', 'count']).reset_index()\n",
    "stats_semanais.columns = ['SEMANA', 'TAMANHO', 'MEDIA_VALOR', 'DESVIO_PADRAO', 'CONTAGEM']\n",
    "stats_semanais = stats_semanais.sort_values(['SEMANA', 'TAMANHO'])\n",
    "stats_semanais['MEDIA_VALOR'] = stats_semanais['MEDIA_VALOR'].round(2)\n",
    "stats_semanais['DESVIO_PADRAO'] = stats_semanais['DESVIO_PADRAO'].round(2)\n",
    "print(\"Estatísticas semanais por tamanho:\")\n",
    "stats_semanais"
   ]
  },
  {
   "cell_type": "code",
   "execution_count": 51,
   "id": "291bcce4-e180-4a7b-9449-9b47f01a54bc",
   "metadata": {},
   "outputs": [
    {
     "data": {
      "image/png": "[encoded data removed]",
      "text/plain": [
       "<Figure size 1200x600 with 1 Axes>"
      ]
     },
     "metadata": {},
     "output_type": "display_data"
    }
   ],
   "source": [
    "plt.figure(figsize=(12, 6))\n",
    "sns.lineplot(x='SEMANA', y='MEDIA_VALOR', hue='TAMANHO', data=stats_semanais, marker='o')\n",
    "plt.title('Média do Valor de Venda por Semana e Tamanho - Cor Cinza', fontsize=14)\n",
    "plt.xlabel('Semana do Ano', fontsize=12)\n",
    "plt.ylabel('Valor Médio de Venda (R$)', fontsize=12)\n",
    "plt.grid(True)\n",
    "plt.legend(title='Tamanho')\n",
    "plt.tight_layout()\n",
    "plt.show()"
   ]
  },
  {
   "cell_type": "markdown",
   "id": "3540b753-37ab-44f4-835c-79356845717d",
   "metadata": {},
   "source": [
    "Tamanhos maiores (G/M) mostram menor variação sazonal, entretanto o tamanho P apresenta comportamento mais cíclico.\n",
    "Tamanho P poderia ter preços mais dinâmicos para capitalizar períodos de alta demanda, enquanto os tamanhos G/M podem manter preços mais estáveis.\n"
   ]
  },
  {
   "cell_type": "code",
   "execution_count": 52,
   "id": "0ec72fab-adf3-4562-973c-7db23fba1643",
   "metadata": {},
   "outputs": [
    {
     "data": {
      "image/png": "[encoded data removed]",
      "text/plain": [
       "<Figure size 1000x600 with 1 Axes>"
      ]
     },
     "metadata": {},
     "output_type": "display_data"
    }
   ],
   "source": [
    "plt.figure(figsize=(10, 6))\n",
    "sns.boxplot(x='TAMANHO', y='VALOR VENDA', data=df_cinza)\n",
    "plt.title('Distribuição do Valor de Venda por Tamanho - Cor Cinza', fontsize=14)\n",
    "plt.xlabel('Tamanho', fontsize=12)\n",
    "plt.ylabel('Valor de Venda (R$)', fontsize=12)\n",
    "plt.grid(True)\n",
    "plt.tight_layout()\n",
    "plt.show()"
   ]
  },
  {
   "cell_type": "markdown",
   "id": "565ab29c-83c1-4fb8-bc4e-c0e693eba25d",
   "metadata": {},
   "source": [
    "Possível oportunidade para revisar preço do tamanho P (grande variação).\n",
    "O tamanho G mostra menor variabilidade, sugerindo percepção mais consistente de valor."
   ]
  },
  {
   "cell_type": "markdown",
   "id": "780db040-9141-49bc-9455-1a9f2b1424de",
   "metadata": {},
   "source": [
    "ANOVA é um teste estatístico que compara as médias de três ou mais grupos para ver se há diferenças significativas entre eles.\n",
    "Ele analisa se a variação entre os grupos (ex.: tamanhos P, M, G) é maior que a variação dentro de cada grupo.\n",
    "Se encontrar diferença significativa (p-valor < 0,05), indica que pelo menos um grupo se destaca dos demais (mas não diz qual)."
   ]
  },
  {
   "cell_type": "code",
   "execution_count": 53,
   "id": "d98eb98b-6588-4d4f-a8ad-9d5702902a39",
   "metadata": {},
   "outputs": [
    {
     "name": "stdout",
     "output_type": "stream",
     "text": [
      "Teste ANOVA para comparação dos valores médios de venda entre tamanhos:\n",
      "F-statistic: 98.2411\n",
      "p-value: 0.0000\n",
      "\n",
      "Conclusão: Rejeitamos a hipótese nula.\n",
      "Existe pelo menos uma diferença significativa no valor médio de venda entre os tamanhos.\n"
     ]
    }
   ],
   "source": [
    "# Agrupando os dados de valor venda por tamanho\n",
    "tamanho_p = df_cinza[df_cinza['TAMANHO'] == 'P']['VALOR VENDA']\n",
    "tamanho_m = df_cinza[df_cinza['TAMANHO'] == 'M']['VALOR VENDA']\n",
    "tamanho_g = df_cinza[df_cinza['TAMANHO'] == 'G']['VALOR VENDA']\n",
    "\n",
    "# Realizando o teste ANOVA\n",
    "f_statistic, p_value = stats.f_oneway(tamanho_p, tamanho_m, tamanho_g)\n",
    "print(f\"Teste ANOVA para comparação dos valores médios de venda entre tamanhos:\")\n",
    "print(f\"F-statistic: {f_statistic:.4f}\")\n",
    "print(f\"p-value: {p_value:.4f}\")\n",
    "\n",
    "# Interpretação do resultado\n",
    "alpha = 0.05\n",
    "\n",
    "if p_value < alpha:\n",
    "    print(\"\\nConclusão: Rejeitamos a hipótese nula.\")\n",
    "    print(\"Existe pelo menos uma diferença significativa no valor médio de venda entre os tamanhos.\")\n",
    "else:\n",
    "    print(\"\\nConclusão: Não rejeitamos a hipótese nula.\")\n",
    "    print(\"Não há evidências suficientes para afirmar que existem diferenças significativas nos valores médios de venda entre os tamanhos.\")"
   ]
  },
  {
   "cell_type": "markdown",
   "id": "176ac85a-74bc-47ed-a071-b880abcf98cc",
   "metadata": {},
   "source": [
    "Uma vez que o teste ANOVA indica diferenças significativas, vamos realizar um teste post-hoc (Tukey HSD) para identificar quais pares de tamanhos diferem significativamente."
   ]
  },
  {
   "cell_type": "code",
   "execution_count": 54,
   "id": "74bf88e2-2388-4238-b6de-b5b48fed2aac",
   "metadata": {},
   "outputs": [
    {
     "name": "stdout",
     "output_type": "stream",
     "text": [
      "Multiple Comparison of Means - Tukey HSD, FWER=0.05 \n",
      "====================================================\n",
      "group1 group2 meandiff p-adj   lower   upper  reject\n",
      "----------------------------------------------------\n",
      "     G      M  30.0288    0.0 23.2953 36.7624   True\n",
      "     G      P  39.3752    0.0 32.7409 46.0094   True\n",
      "     M      P   9.3463 0.0002  3.9006  14.792   True\n",
      "----------------------------------------------------\n"
     ]
    }
   ],
   "source": [
    "df_tukey = pd.DataFrame({\n",
    "    'valor': pd.concat([tamanho_p, tamanho_m, tamanho_g], ignore_index=True),\n",
    "    'grupo': pd.concat([\n",
    "        pd.Series(['P'] * len(tamanho_p)),\n",
    "        pd.Series(['M'] * len(tamanho_m)),\n",
    "        pd.Series(['G'] * len(tamanho_g))\n",
    "    ], ignore_index=True)\n",
    "})\n",
    "\n",
    "tukey_results = pairwise_tukeyhsd(df_tukey['valor'], df_tukey['grupo'], alpha=0.05)\n",
    "print(tukey_results)"
   ]
  },
  {
   "cell_type": "markdown",
   "id": "2a4766ed-ed0c-45b1-8851-551e145f2780",
   "metadata": {},
   "source": [
    "Os produtos seguem uma hierarquia de preços consistente (G > M > P), com diferenças reais (99.8%+ de confiança)."
   ]
  },
  {
   "cell_type": "markdown",
   "id": "87767a0c-26cb-4dd4-96f7-19fdfae6bae3",
   "metadata": {},
   "source": [
    "## Conclusão "
   ]
  },
  {
   "cell_type": "markdown",
   "id": "15f9e011-39e0-4904-95df-8a562dd8b547",
   "metadata": {},
   "source": [
    "Este notebook teve como objetivo principal analisar os dados de vendas de uma empresa varejista, buscando responder a perguntas estratégicas formuladas pela área Comercial.\n",
    "Por meio de técnicas de manipulação de dados, filtragem e análise estatística, foram extraídos insights sobre o comportamento de compra dos clientes, segmentação por classe social, preferências por cor e tamanho, além da performance geográfica (Unidades da Federação).  \n",
    "\n",
    "#### **Principais Resultados**  \n",
    "1. **Classe C como Principal Público-Alvo**:  \n",
    "   - A classe social que mais contribuiu para o faturamento foi a **Classe C**, com destaque para os estados do **RS, SP e RJ** em compras de produtos em promoção.  \n",
    "   - **Possíveis ações**: Direcionar campanhas promocionais específicas para essa classe nesses estados, potencializando vendas e fidelização.  \n",
    "\n",
    "2. **Preferência por Tamanho G em Peças Azuis**:  \n",
    "   - O **tamanho G** foi o mais vendido em todas as UFs analisadas para a cor azul.  \n",
    "   - **Possíveis ações*: Ajustar o estoque e o mix de produtos, priorizando esse tamanho, e avaliar se a demanda se repete em outras cores.  \n",
    "\n",
    "3. **Crescimento de Vendas de Jaquetas Vermelhas**:  \n",
    "   - **Jaquetas vermelhas** tiveram maior volume de vendas em **2023** comparado a 2022, com destaque para o RS, que registrou **R$ 20.835,70** em vendas desse item em 2022.  \n",
    "   - **Possíveis ações**: Investir em marketing sazonal para jaquetas, especialmente em cores de alta demanda, e monitorar tendências semelhantes em outras regiões.  \n",
    "\n",
    "4. **Análise Estatística para a Cor Cinza (2023)**:  \n",
    "   - Através de **testes de hipóteses (ANOVA)**, foi possível identificar que o **tamanho G** apresentou **maior valor médio de venda** com **significância estatística** em comparação aos tamanhos P e M.  \n",
    "   - **Ação Recomendada**: Ajustar estratégias de precificação e estoque para o tamanho G, além de investigar se esse padrão se repete em outras cores.  \n",
    "\n",
    "#### **Impacto**  \n",
    "Os resultados obtidos fornecem dados para:  \n",
    "- **Avaliar e otimizar estoques** (evitando excessos ou falta de produtos-chave).  \n",
    "- **Personalizar promoções** (direcionando descontos para clientes da Classe C em regiões estratégicas).  \n",
    "- **Refinar estratégias de marketing** (como campanhas focadas em jaquetas vermelhas e tamanho G).  \n",
    "\n",
    "\n",
    "Em resumo, este notebook não apenas respondeu às perguntas iniciais, mas também gerou conhecimento acionável, permitindo que a empresa tome decisões baseadas em dados para aumentar receita, eficiência e satisfação do cliente.  \n"
   ]
  }
 ],
 "metadata": {
  "kernelspec": {
   "display_name": "Python 3 (ipykernel)",
   "language": "python",
   "name": "python3"
  },
  "language_info": {
   "codemirror_mode": {
    "name": "ipython",
    "version": 3
   },
   "file_extension": ".py",
   "mimetype": "text/x-python",
   "name": "python",
   "nbconvert_exporter": "python",
   "pygments_lexer": "ipython3",
   "version": "3.13.2"
  }
 },
 "nbformat": 4,
 "nbformat_minor": 5
}
